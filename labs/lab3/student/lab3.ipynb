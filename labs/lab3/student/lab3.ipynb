{
 "cells": [
  {
   "cell_type": "markdown",
   "metadata": {},
   "source": [
    "<img src=\"img/dsci513_header2.png\" width=\"600\">"
   ]
  },
  {
   "cell_type": "markdown",
   "metadata": {
    "tags": []
   },
   "source": [
    "# Lab 3: Subqueries, window functions, CTEs\n",
    "\n",
    "**Arman Seyed-Ahmadi, November 2021**"
   ]
  },
  {
   "cell_type": "markdown",
   "metadata": {},
   "source": [
    "## Instructions\n",
    "---\n",
    "rubric={mechanics:2}"
   ]
  },
  {
   "cell_type": "markdown",
   "metadata": {},
   "source": [
    "- Follow the [general lab instructions](https://ubc-mds.github.io/resources_pages/general_lab_instructions/)\n",
    "- Make sure to upload a PDF version of your lab notebook to Gradescope, in addition to the `.ipynb` file. Use the `Webpdf` option of Jupyter Lab if `PDF` doesn't work.\n",
    "- Add a link to your GitHub repository here:"
   ]
  },
  {
   "cell_type": "markdown",
   "metadata": {},
   "source": [
    "## Getting set up\n",
    "---"
   ]
  },
  {
   "cell_type": "code",
   "execution_count": null,
   "metadata": {},
   "outputs": [],
   "source": [
    "%load_ext sql\n",
    "%config SqlMagic.displaylimit = 50\n",
    "\n",
    "import json\n",
    "import urllib.parse\n",
    "\n",
    "with open('data/credentials.json') as f:\n",
    "    login = json.load(f)\n",
    "    \n",
    "username = login['user']\n",
    "password = urllib.parse.quote(login['password'])\n",
    "host = login['host']\n",
    "port = login['port']"
   ]
  },
  {
   "cell_type": "code",
   "execution_count": null,
   "metadata": {},
   "outputs": [],
   "source": [
    "%sql postgresql://{username}:{password}@{host}:{port}/world_dsci513"
   ]
  },
  {
   "cell_type": "markdown",
   "metadata": {
    "tags": []
   },
   "source": [
    "## Exercise 1: Simple subqueries\n",
    "---"
   ]
  },
  {
   "cell_type": "markdown",
   "metadata": {},
   "source": [
    "### 1.1\n",
    "\n",
    "rubric={accuracy:2}"
   ]
  },
  {
   "cell_type": "markdown",
   "metadata": {},
   "source": [
    "Suppose that we are interested in computing how far the life expectancy of each country in the `country` table is from its average value for all countries in the world. This can be expressed as `lifeexpectancy` $-$ `AVG(lifeexpectancy)`.\n",
    "\n",
    "Write a query that lists country names and their life expectancy deviation from the world average.\n",
    "\n",
    "- Eliminate rows with null values\n",
    "- Sort your results in ascending order by the values in the life expectancy deviation column\n",
    "- Round the values in the life expectancy deviation column to 1 decimal digit."
   ]
  },
  {
   "cell_type": "code",
   "execution_count": null,
   "metadata": {
    "tags": []
   },
   "outputs": [],
   "source": [
    "%%sql\n",
    "\n",
    "..."
   ]
  },
  {
   "cell_type": "markdown",
   "metadata": {},
   "source": [
    "### 1.2\n",
    "\n",
    "rubric={reasoning:1}"
   ]
  },
  {
   "cell_type": "markdown",
   "metadata": {},
   "source": [
    "Explain why you can't write a query for Exercise [1.1](#1.1) without using a subquery."
   ]
  },
  {
   "cell_type": "markdown",
   "metadata": {},
   "source": [
    "_Your answer goes here, replacing this line._"
   ]
  },
  {
   "cell_type": "markdown",
   "metadata": {},
   "source": [
    "### 1.3\n",
    "\n",
    "rubric={accuracy:2}"
   ]
  },
  {
   "cell_type": "markdown",
   "metadata": {},
   "source": [
    "Use your query in Exercise [1.1](#1.1) to return the same columns, but modify it such that only countries are returned whose population density (i.e. `population / surfacearea`) is greater than the world average.\n",
    "\n",
    "On average, do these countries returned by your query have lower or higher life expectancy, compared to the world average? (No computation needed, just look at the results to find out)."
   ]
  },
  {
   "cell_type": "code",
   "execution_count": null,
   "metadata": {},
   "outputs": [],
   "source": [
    "%%sql\n",
    "\n",
    "..."
   ]
  },
  {
   "cell_type": "markdown",
   "metadata": {},
   "source": [
    "_Your answer for the second part goes here, replacing this line._"
   ]
  },
  {
   "cell_type": "markdown",
   "metadata": {},
   "source": [
    "### 1.4 (OPTIONAL)\n",
    "\n",
    "rubric={accuracy:2}"
   ]
  },
  {
   "cell_type": "markdown",
   "metadata": {},
   "source": [
    "Write a query that lists all continents and the number of countries in each continent that have a life expectancy greater than 77 years. If there are no countries in a continent that satisfy this condition, the value of the second column should be null.\n",
    "\n",
    "Your result should look like this if you order alphabetically by continent:\n",
    "\n",
    "<img src=\"img/1_4.png\" width=\"170\">\n",
    "\n",
    "> **Hint:** A subquery can also act as a table that you can use in a join.\n",
    "\n",
    "> **Hint:** You need to use an outer join (either left or right) to also include continents with no countries satisfying the described condition."
   ]
  },
  {
   "cell_type": "code",
   "execution_count": null,
   "metadata": {},
   "outputs": [],
   "source": [
    "%%sql\n",
    "\n",
    "..."
   ]
  },
  {
   "cell_type": "markdown",
   "metadata": {},
   "source": [
    "### 1.5\n",
    "\n",
    "rubric={accuracy:2}"
   ]
  },
  {
   "cell_type": "markdown",
   "metadata": {},
   "source": [
    "Retrieve the names of non-European countries in the world where one or more of the official European languages are spoken (either officially or non-officially). Make sure to remove duplicate country names from your results.\n",
    "\n",
    "For this query, I have provided some starter code for you. Replace the triple dots with appropriate SQL expressions:"
   ]
  },
  {
   "cell_type": "code",
   "execution_count": null,
   "metadata": {},
   "outputs": [],
   "source": [
    "%%sql\n",
    "\n",
    "SELECT\n",
    "    ...\n",
    "FROM\n",
    "    ...\n",
    "JOIN\n",
    "    ...\n",
    "ON\n",
    "    ...\n",
    "WHERE\n",
    "    c.continent ...\n",
    "    AND\n",
    "    cl.language ... (\n",
    "        SELECT\n",
    "            \n",
    "        FROM\n",
    "            ...\n",
    "        JOIN\n",
    "            ...\n",
    "        ON\n",
    "            ...\n",
    "        WHERE\n",
    "            ...\n",
    "            AND\n",
    "            ...\n",
    "    )\n",
    "ORDER BY\n",
    "    ... DESC\n",
    ";"
   ]
  },
  {
   "cell_type": "markdown",
   "metadata": {},
   "source": [
    "### 1.6\n",
    "\n",
    "rubric={accuracy:2}"
   ]
  },
  {
   "cell_type": "markdown",
   "metadata": {},
   "source": [
    "Rewrite the following query using a subquery instead of a join:\n",
    "\n",
    "```sql\n",
    "SELECT\n",
    "    c.name\n",
    "FROM\n",
    "    country c\n",
    "JOIN\n",
    "    city ci\n",
    "ON\n",
    "    c.capital = ci.id\n",
    "WHERE\n",
    "    ci.population > 5000000\n",
    ";\n",
    "```"
   ]
  },
  {
   "cell_type": "code",
   "execution_count": null,
   "metadata": {},
   "outputs": [],
   "source": [
    "%%sql\n",
    "\n",
    "..."
   ]
  },
  {
   "cell_type": "markdown",
   "metadata": {
    "tags": []
   },
   "source": [
    "### 1.7\n",
    "\n",
    "rubric={accuracy:2}"
   ]
  },
  {
   "cell_type": "markdown",
   "metadata": {},
   "source": [
    "Which countries in the world are vast enough to fit in all western European and Nordic countries?"
   ]
  },
  {
   "cell_type": "code",
   "execution_count": null,
   "metadata": {},
   "outputs": [],
   "source": [
    "%%sql\n",
    "\n",
    "..."
   ]
  },
  {
   "cell_type": "markdown",
   "metadata": {
    "tags": []
   },
   "source": [
    "## Exercise 2: Correlated subqueries\n",
    "---"
   ]
  },
  {
   "cell_type": "markdown",
   "metadata": {},
   "source": [
    "### 2.1\n",
    "\n",
    "rubric={accuracy:3}"
   ]
  },
  {
   "cell_type": "markdown",
   "metadata": {},
   "source": [
    "Find the number of countries in each continent whose life expectancy is greater than the average value for their respective continent.\n",
    "\n",
    "> **Hint:** The `lifeexpectancy` column contains a bunch of nulls. Be careful with your counting!"
   ]
  },
  {
   "cell_type": "code",
   "execution_count": null,
   "metadata": {},
   "outputs": [],
   "source": [
    "%%sql\n",
    "\n",
    "..."
   ]
  },
  {
   "cell_type": "markdown",
   "metadata": {},
   "source": [
    "### 2.2\n",
    "\n",
    "rubric={accuracy:2}"
   ]
  },
  {
   "cell_type": "markdown",
   "metadata": {},
   "source": [
    "The results of your query for the previous question may not be very informative on first look, because absolute counts do not reveal much unless we can relate them to the total number of countries in each continent.\n",
    "\n",
    "Borrow your query from Exercise [2.1](#2.2) and modify it such that it shows the ratio of the number of countries in each continent whose life expectancy is greater than their continent-average values, to the total number of countries in each continent. Round your ratio values to 2 decimal digits.\n",
    "\n",
    "> **Hint:** Again, be careful with your counting, since `lifeexpectancy` column contains a bunch of nulls.\n",
    "\n",
    "> **Hint:** That's right, you need to add one more subquery somewhere!"
   ]
  },
  {
   "cell_type": "code",
   "execution_count": null,
   "metadata": {},
   "outputs": [],
   "source": [
    "%%sql\n",
    "\n",
    "..."
   ]
  },
  {
   "cell_type": "markdown",
   "metadata": {},
   "source": [
    "### 2.3\n",
    "\n",
    "rubric={reasoning:2}"
   ]
  },
  {
   "cell_type": "markdown",
   "metadata": {},
   "source": [
    "Consider this question:\n",
    "\n",
    "In which European countries English is **not** spoken at all (i.e. not listed in the `countrylanguage` table)?\n",
    "\n",
    "I have written the following SQL query to answer the above question:\n",
    "\n",
    "```sql\n",
    "SELECT\n",
    "    DISTINCT c.name\n",
    "FROM\n",
    "    country c\n",
    "JOIN\n",
    "    countrylanguage cl\n",
    "ON\n",
    "    c.code = cl.countrycode\n",
    "WHERE\n",
    "    NOT cl.language ~ '(?i)english'\n",
    "    AND\n",
    "    c.continent ~ '(?i)europe'\n",
    ";\n",
    "```\n",
    "\n",
    "However, when I run the above query I can find \"United Kingdom\" listed in the results, which is clearly incorrect. Can you tell me why I'm getting wrong results?"
   ]
  },
  {
   "cell_type": "markdown",
   "metadata": {},
   "source": [
    "_Your answer goes here, replacing this line._"
   ]
  },
  {
   "cell_type": "markdown",
   "metadata": {},
   "source": [
    "### 2.4\n",
    "\n",
    "rubric={accuracy:2}"
   ]
  },
  {
   "cell_type": "markdown",
   "metadata": {},
   "source": [
    "Alright, let's figure out how to correctly answer the following question from Exercise [2.3](#2.3):\n",
    "\n",
    "In which European countries English is **not** spoken at all (i.e. not listed in the `countrylanguage` table)?"
   ]
  },
  {
   "cell_type": "code",
   "execution_count": null,
   "metadata": {},
   "outputs": [],
   "source": [
    "%%sql\n",
    "\n",
    "..."
   ]
  },
  {
   "cell_type": "markdown",
   "metadata": {
    "tags": []
   },
   "source": [
    "## Exercise 3: Window functions and CTEs\n",
    "---"
   ]
  },
  {
   "cell_type": "markdown",
   "metadata": {},
   "source": [
    "### 3.1\n",
    "\n",
    "rubric={accuracy:1}"
   ]
  },
  {
   "cell_type": "markdown",
   "metadata": {},
   "source": [
    "Rewrite the query that you've written for Exercise [1.1](#1.1) using window functions this time."
   ]
  },
  {
   "cell_type": "code",
   "execution_count": null,
   "metadata": {
    "tags": []
   },
   "outputs": [],
   "source": [
    "%%sql\n",
    "\n",
    "..."
   ]
  },
  {
   "cell_type": "markdown",
   "metadata": {
    "tags": []
   },
   "source": [
    "### 3.2\n",
    "\n",
    "rubric={accuracy:2}"
   ]
  },
  {
   "cell_type": "markdown",
   "metadata": {},
   "source": [
    "Write a query that returns country, continent and city names, as well as the ratio of the population of each city to the population of the country where it's located, expressed as a percentage value. Furthermore, your query should also return the population rank of each city among all other cities in the same continent in descending order.\n",
    "\n",
    "Your results should look like this:\n",
    "\n",
    "<img src=\"img/3_2.png\" width=\"700\">\n",
    "\n",
    "Use the above image to name and format your columns properly.\n",
    "\n",
    "> **Note:** The order of your returned rows might be different from mine, but that is fine. "
   ]
  },
  {
   "cell_type": "code",
   "execution_count": null,
   "metadata": {},
   "outputs": [],
   "source": [
    "%%sql\n",
    "\n",
    "..."
   ]
  },
  {
   "cell_type": "markdown",
   "metadata": {},
   "source": [
    "### 3.3\n",
    "\n",
    "rubric={accuracy:2}"
   ]
  },
  {
   "cell_type": "markdown",
   "metadata": {},
   "source": [
    "Suppose that we'd like to only choose the most populated cities in each continent. The problem is, it's not possible to use a window function in the `WHERE` clause. But don't worry, it's not the end of the world!\n",
    "\n",
    "Using your query in Exercise [3.3](#3.3), write a common table expression (CTE) to retrieve rows associated with the most populated cities of each continent. In each row, your query should only return the city name, along with the name of the country and continent where it's located."
   ]
  },
  {
   "cell_type": "code",
   "execution_count": null,
   "metadata": {},
   "outputs": [],
   "source": [
    "%%sql\n",
    "\n",
    "..."
   ]
  }
 ],
 "metadata": {
  "interpreter": {
   "hash": "569d6b7e9215e11aba41c6454007e5c1b78bad7df09dab765d8cf00362c40f03"
  },
  "kernelspec": {
   "display_name": "Python [conda env:dsci513env]",
   "language": "python",
   "name": "conda-env-dsci513env-py"
  },
  "language_info": {
   "codemirror_mode": {
    "name": "ipython",
    "version": 3
   },
   "file_extension": ".py",
   "mimetype": "text/x-python",
   "name": "python",
   "nbconvert_exporter": "python",
   "pygments_lexer": "ipython3",
   "version": "3.9.7"
  },
  "toc": {
   "base_numbering": 1,
   "nav_menu": {},
   "number_sections": false,
   "sideBar": true,
   "skip_h1_title": true,
   "title_cell": "Lecture Outline",
   "title_sidebar": "Contents",
   "toc_cell": true,
   "toc_position": {},
   "toc_section_display": true,
   "toc_window_display": true
  },
  "toc-autonumbering": false,
  "toc-showcode": false,
  "toc-showmarkdowntxt": false,
  "toc-showtags": false
 },
 "nbformat": 4,
 "nbformat_minor": 4
}
