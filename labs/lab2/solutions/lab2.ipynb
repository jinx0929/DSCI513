{
 "cells": [
  {
   "cell_type": "markdown",
   "metadata": {},
   "source": [
    "<img src=\"img/dsci513_header2.png\" width=\"600\">"
   ]
  },
  {
   "cell_type": "markdown",
   "metadata": {
    "tags": []
   },
   "source": [
    "# Lab 2: Grouping, joins, and table manipulation\n",
    "\n",
    "**Arman Seyed-Ahmadi, November 2021**"
   ]
  },
  {
   "cell_type": "markdown",
   "metadata": {},
   "source": [
    "## Instructions\n",
    "---\n",
    "rubric={mechanics:2}"
   ]
  },
  {
   "cell_type": "markdown",
   "metadata": {},
   "source": [
    "- Follow the [general lab instructions](https://ubc-mds.github.io/resources_pages/general_lab_instructions/)\n",
    "- Make sure to upload a PDF version of your lab notebook to Gradescope, in addition to the `.ipynb` file. Use the `Webpdf` option of Jupyter Lab if `PDF` doesn't work.\n",
    "- Add a link to your GitHub repository here:"
   ]
  },
  {
   "cell_type": "markdown",
   "metadata": {},
   "source": [
    "## Imports and configurations\n",
    "---"
   ]
  },
  {
   "cell_type": "code",
   "execution_count": 1,
   "metadata": {},
   "outputs": [],
   "source": [
    "import numpy as np\n",
    "import pandas as pd\n",
    "import matplotlib.pyplot as plt\n",
    "import psycopg2\n",
    "import csv\n",
    "\n",
    "%matplotlib inline\n",
    "%load_ext sql\n",
    "%config SqlMagic.displaylimit = 30\n",
    "%config SqlMagic.autolimit = 30"
   ]
  },
  {
   "cell_type": "markdown",
   "metadata": {},
   "source": [
    "## Connecting to the database\n",
    "---"
   ]
  },
  {
   "cell_type": "code",
   "execution_count": 2,
   "metadata": {},
   "outputs": [],
   "source": [
    "import json\n",
    "import urllib.parse\n",
    "\n",
    "with open('data/credentials.json') as f:\n",
    "    login = json.load(f)\n",
    "    \n",
    "username = login['user']\n",
    "password = urllib.parse.quote(login['password'])\n",
    "host = login['host']\n",
    "port = login['port']"
   ]
  },
  {
   "cell_type": "markdown",
   "metadata": {
    "tags": []
   },
   "source": [
    "## Exercise 1: Aggregations and grouping\n",
    "---"
   ]
  },
  {
   "cell_type": "markdown",
   "metadata": {},
   "source": [
    "For this exercise, use the `pd.read_sql_query` function from Pandas to execute your queries. But we need to use the `psycopg2` package to establish a connection to the `world_dsci513` database first:"
   ]
  },
  {
   "cell_type": "code",
   "execution_count": 3,
   "metadata": {},
   "outputs": [],
   "source": [
    "conn = psycopg2.connect(database='world_dsci513', **login)"
   ]
  },
  {
   "cell_type": "markdown",
   "metadata": {},
   "source": [
    "Because we read query results into Pandas dataframes, you'll see an **index column** appearing in your results. That is fine."
   ]
  },
  {
   "cell_type": "markdown",
   "metadata": {},
   "source": [
    "### 1.1\n",
    "\n",
    "rubric={accuracy:2}"
   ]
  },
  {
   "cell_type": "markdown",
   "metadata": {},
   "source": [
    "Write a query to answer the following question:\n",
    "\n",
    "How much higher is the population of the most populated country in the world, with respect to the average population of all countries in the world, expressed in percent?\n",
    "\n",
    "- You can find this value using the the formula $(\\text{pop} - \\text{pop}_\\text{avg}) / \\text{pop}_\\text{avg}) \\times 100$.\n",
    "- Your query should print the value with only one digit after the decimal point, followed by the percent sign `%`, e.g. `2500.0%`."
   ]
  },
  {
   "cell_type": "raw",
   "metadata": {},
   "source": [
    "# BEGIN QUESTION\n",
    "name: q1_1"
   ]
  },
  {
   "cell_type": "raw",
   "metadata": {},
   "source": [
    "# BEGIN SOLUTION"
   ]
  },
  {
   "cell_type": "code",
   "execution_count": 4,
   "metadata": {},
   "outputs": [
    {
     "data": {
      "text/html": [
       "<div>\n",
       "<style scoped>\n",
       "    .dataframe tbody tr th:only-of-type {\n",
       "        vertical-align: middle;\n",
       "    }\n",
       "\n",
       "    .dataframe tbody tr th {\n",
       "        vertical-align: top;\n",
       "    }\n",
       "\n",
       "    .dataframe thead th {\n",
       "        text-align: right;\n",
       "    }\n",
       "</style>\n",
       "<table border=\"1\" class=\"dataframe\">\n",
       "  <thead>\n",
       "    <tr style=\"text-align: right;\">\n",
       "      <th></th>\n",
       "      <th>?column?</th>\n",
       "    </tr>\n",
       "  </thead>\n",
       "  <tbody>\n",
       "    <tr>\n",
       "      <th>0</th>\n",
       "      <td>4923.0%</td>\n",
       "    </tr>\n",
       "  </tbody>\n",
       "</table>\n",
       "</div>"
      ],
      "text/plain": [
       "  ?column?\n",
       "0  4923.0%"
      ]
     },
     "execution_count": 4,
     "metadata": {},
     "output_type": "execute_result"
    }
   ],
   "source": [
    "query = \"\"\"\n",
    "SELECT\n",
    "    ROUND(\n",
    "        ((MAX(population) - AVG(population)) / AVG(population)) * 100, 1)\n",
    "    || '%'\n",
    "FROM\n",
    "    country\n",
    ";\n",
    "\"\"\"\n",
    "\n",
    "pd.read_sql_query(query, con=conn)"
   ]
  },
  {
   "cell_type": "raw",
   "metadata": {},
   "source": [
    "# END SOLUTION"
   ]
  },
  {
   "cell_type": "raw",
   "metadata": {},
   "source": [
    "# END QUESTION"
   ]
  },
  {
   "cell_type": "markdown",
   "metadata": {},
   "source": [
    "### 1.2\n",
    "\n",
    "rubric={accuracy:2}"
   ]
  },
  {
   "cell_type": "markdown",
   "metadata": {},
   "source": [
    "Write a query to answer the following question:\n",
    "\n",
    "What is the maximum, average, and minimum population density (population per surface area [person / km$^2$]) of countries located in Europe?\n",
    "\n",
    "- The values in the `surfacearea` column already have the required unit (km$^2$); no unit conversion is required.\n",
    "- Your column headers should read _Max pop_density_, _Average pop_density_, and _Min pop_density_.\n",
    "- Round all values to 2 decimal digits.\n",
    "\n",
    ">**Note:** Remember that you have to convert approximate types (e.g. double precision or real) to `NUMERIC` to be able to use the `ROUND()` function."
   ]
  },
  {
   "cell_type": "raw",
   "metadata": {},
   "source": [
    "# BEGIN QUESTION\n",
    "name: q1_2"
   ]
  },
  {
   "cell_type": "raw",
   "metadata": {},
   "source": [
    "# BEGIN SOLUTION"
   ]
  },
  {
   "cell_type": "code",
   "execution_count": 5,
   "metadata": {},
   "outputs": [
    {
     "data": {
      "text/html": [
       "<div>\n",
       "<style scoped>\n",
       "    .dataframe tbody tr th:only-of-type {\n",
       "        vertical-align: middle;\n",
       "    }\n",
       "\n",
       "    .dataframe tbody tr th {\n",
       "        vertical-align: top;\n",
       "    }\n",
       "\n",
       "    .dataframe thead th {\n",
       "        text-align: right;\n",
       "    }\n",
       "</style>\n",
       "<table border=\"1\" class=\"dataframe\">\n",
       "  <thead>\n",
       "    <tr style=\"text-align: right;\">\n",
       "      <th></th>\n",
       "      <th>Max pop_density</th>\n",
       "      <th>Average pop_density</th>\n",
       "      <th>Min pop_density</th>\n",
       "    </tr>\n",
       "  </thead>\n",
       "  <tbody>\n",
       "    <tr>\n",
       "      <th>0</th>\n",
       "      <td>22666.67</td>\n",
       "      <td>769.42</td>\n",
       "      <td>0.05</td>\n",
       "    </tr>\n",
       "  </tbody>\n",
       "</table>\n",
       "</div>"
      ],
      "text/plain": [
       "   Max pop_density  Average pop_density  Min pop_density\n",
       "0         22666.67               769.42             0.05"
      ]
     },
     "execution_count": 5,
     "metadata": {},
     "output_type": "execute_result"
    }
   ],
   "source": [
    "query = \"\"\"\n",
    "SELECT\n",
    "    ROUND(MAX(population / surfacearea)::NUMERIC, 2) AS \"Max pop_density\",\n",
    "    ROUND(AVG(population / surfacearea)::NUMERIC, 2) AS \"Average pop_density\",\n",
    "    ROUND(MIN(population / surfacearea)::NUMERIC, 2) AS \"Min pop_density\"\n",
    "FROM\n",
    "    country\n",
    "WHERE\n",
    "    continent = 'Europe'\n",
    ";\n",
    "\"\"\"\n",
    "\n",
    "pd.read_sql_query(query, con=conn)"
   ]
  },
  {
   "cell_type": "raw",
   "metadata": {},
   "source": [
    "# END SOLUTION"
   ]
  },
  {
   "cell_type": "raw",
   "metadata": {},
   "source": [
    "# END QUESTION"
   ]
  },
  {
   "cell_type": "markdown",
   "metadata": {},
   "source": [
    "### 1.3\n",
    "\n",
    "rubric={reasoning:1}"
   ]
  },
  {
   "cell_type": "markdown",
   "metadata": {},
   "source": [
    "We'd like to write a query to return the name of the country with the greatest surface area in the `world_dsci513` database. Would the following query work as expected? Explain your answer in a 2-3 sentences.\n",
    "\n",
    "```sql\n",
    "SELECT\n",
    "    name, MAX(surfacearea)\n",
    "FROM\n",
    "    country\n",
    "```"
   ]
  },
  {
   "cell_type": "raw",
   "metadata": {},
   "source": [
    "# BEGIN QUESTION\n",
    "name: q1_3"
   ]
  },
  {
   "cell_type": "raw",
   "metadata": {},
   "source": [
    "# BEGIN SOLUTION"
   ]
  },
  {
   "cell_type": "markdown",
   "metadata": {},
   "source": [
    "No, it will not, because it's not possible to have both aggregated and non-aggregated columns in a single query unless the non-aggregated columns also appear in the `GROUP BY` clause."
   ]
  },
  {
   "cell_type": "raw",
   "metadata": {},
   "source": [
    "# END SOLUTION"
   ]
  },
  {
   "cell_type": "raw",
   "metadata": {},
   "source": [
    "# END QUESTION"
   ]
  },
  {
   "cell_type": "markdown",
   "metadata": {},
   "source": [
    "### 1.4 (OPTIONAL)\n",
    "\n",
    "rubric={accuracy:2}"
   ]
  },
  {
   "cell_type": "markdown",
   "metadata": {},
   "source": [
    "Can you write a query to answer the question posed in [Exercise 1.3](#1.3)? Your result should contain one column and one row containing the value described above.\n",
    "\n",
    "> **Hint:** Surprisingly, you don't need to use aggregation!"
   ]
  },
  {
   "cell_type": "raw",
   "metadata": {},
   "source": [
    "# BEGIN QUESTION\n",
    "name: q1_4"
   ]
  },
  {
   "cell_type": "raw",
   "metadata": {},
   "source": [
    "# BEGIN SOLUTION"
   ]
  },
  {
   "cell_type": "code",
   "execution_count": 6,
   "metadata": {},
   "outputs": [
    {
     "data": {
      "text/html": [
       "<div>\n",
       "<style scoped>\n",
       "    .dataframe tbody tr th:only-of-type {\n",
       "        vertical-align: middle;\n",
       "    }\n",
       "\n",
       "    .dataframe tbody tr th {\n",
       "        vertical-align: top;\n",
       "    }\n",
       "\n",
       "    .dataframe thead th {\n",
       "        text-align: right;\n",
       "    }\n",
       "</style>\n",
       "<table border=\"1\" class=\"dataframe\">\n",
       "  <thead>\n",
       "    <tr style=\"text-align: right;\">\n",
       "      <th></th>\n",
       "      <th>name</th>\n",
       "    </tr>\n",
       "  </thead>\n",
       "  <tbody>\n",
       "    <tr>\n",
       "      <th>0</th>\n",
       "      <td>Russian Federation</td>\n",
       "    </tr>\n",
       "  </tbody>\n",
       "</table>\n",
       "</div>"
      ],
      "text/plain": [
       "                 name\n",
       "0  Russian Federation"
      ]
     },
     "execution_count": 6,
     "metadata": {},
     "output_type": "execute_result"
    }
   ],
   "source": [
    "query = \"\"\"\n",
    "SELECT\n",
    "    name\n",
    "FROM\n",
    "    country\n",
    "ORDER BY\n",
    "    surfacearea DESC\n",
    "LIMIT 1\n",
    ";\n",
    "\"\"\"\n",
    "\n",
    "pd.read_sql_query(query, con=conn)"
   ]
  },
  {
   "cell_type": "raw",
   "metadata": {},
   "source": [
    "# END SOLUTION"
   ]
  },
  {
   "cell_type": "raw",
   "metadata": {},
   "source": [
    "# END QUESTION"
   ]
  },
  {
   "cell_type": "markdown",
   "metadata": {},
   "source": [
    "### 1.5\n",
    "\n",
    "rubric={accuracy:2}"
   ]
  },
  {
   "cell_type": "markdown",
   "metadata": {},
   "source": [
    "Write a query that returns the total population of each region of the world according to the `country` table.\n",
    "\n",
    "- Sort your results in descending order by each region's total population (Hint: Be careful not to sort alphabetically!).\n",
    "- In order to increase the readability of the results, use the `to_char()` function to separate groups of thousands with commas\n",
    "(see the documentation [here](https://www.postgresql.org/docs/current/functions-formatting.html#FUNCTIONS-FORMATTING-NUMERIC-TABLE)).\n",
    "For example, to accommodate numbers going up to a billion, you can use `to_char(column, '9,999,999,999')`."
   ]
  },
  {
   "cell_type": "raw",
   "metadata": {},
   "source": [
    "# BEGIN QUESTION\n",
    "name: q1_5"
   ]
  },
  {
   "cell_type": "raw",
   "metadata": {},
   "source": [
    "# BEGIN SOLUTION"
   ]
  },
  {
   "cell_type": "code",
   "execution_count": 7,
   "metadata": {},
   "outputs": [
    {
     "data": {
      "text/html": [
       "<div>\n",
       "<style scoped>\n",
       "    .dataframe tbody tr th:only-of-type {\n",
       "        vertical-align: middle;\n",
       "    }\n",
       "\n",
       "    .dataframe tbody tr th {\n",
       "        vertical-align: top;\n",
       "    }\n",
       "\n",
       "    .dataframe thead th {\n",
       "        text-align: right;\n",
       "    }\n",
       "</style>\n",
       "<table border=\"1\" class=\"dataframe\">\n",
       "  <thead>\n",
       "    <tr style=\"text-align: right;\">\n",
       "      <th></th>\n",
       "      <th>region</th>\n",
       "      <th>sum_pop</th>\n",
       "    </tr>\n",
       "  </thead>\n",
       "  <tbody>\n",
       "    <tr>\n",
       "      <th>0</th>\n",
       "      <td>Eastern Asia</td>\n",
       "      <td>1,507,328,000</td>\n",
       "    </tr>\n",
       "    <tr>\n",
       "      <th>1</th>\n",
       "      <td>Southern and Central Asia</td>\n",
       "      <td>1,490,776,000</td>\n",
       "    </tr>\n",
       "    <tr>\n",
       "      <th>2</th>\n",
       "      <td>Southeast Asia</td>\n",
       "      <td>518,541,000</td>\n",
       "    </tr>\n",
       "    <tr>\n",
       "      <th>3</th>\n",
       "      <td>South America</td>\n",
       "      <td>345,780,000</td>\n",
       "    </tr>\n",
       "    <tr>\n",
       "      <th>4</th>\n",
       "      <td>North America</td>\n",
       "      <td>309,632,000</td>\n",
       "    </tr>\n",
       "    <tr>\n",
       "      <th>5</th>\n",
       "      <td>Eastern Europe</td>\n",
       "      <td>307,026,000</td>\n",
       "    </tr>\n",
       "    <tr>\n",
       "      <th>6</th>\n",
       "      <td>Eastern Africa</td>\n",
       "      <td>246,999,000</td>\n",
       "    </tr>\n",
       "    <tr>\n",
       "      <th>7</th>\n",
       "      <td>Western Africa</td>\n",
       "      <td>221,672,000</td>\n",
       "    </tr>\n",
       "    <tr>\n",
       "      <th>8</th>\n",
       "      <td>Middle East</td>\n",
       "      <td>188,380,700</td>\n",
       "    </tr>\n",
       "    <tr>\n",
       "      <th>9</th>\n",
       "      <td>Western Europe</td>\n",
       "      <td>183,247,600</td>\n",
       "    </tr>\n",
       "    <tr>\n",
       "      <th>10</th>\n",
       "      <td>Northern Africa</td>\n",
       "      <td>173,266,000</td>\n",
       "    </tr>\n",
       "    <tr>\n",
       "      <th>11</th>\n",
       "      <td>Southern Europe</td>\n",
       "      <td>144,674,200</td>\n",
       "    </tr>\n",
       "    <tr>\n",
       "      <th>12</th>\n",
       "      <td>Central America</td>\n",
       "      <td>135,221,000</td>\n",
       "    </tr>\n",
       "    <tr>\n",
       "      <th>13</th>\n",
       "      <td>Central Africa</td>\n",
       "      <td>95,652,000</td>\n",
       "    </tr>\n",
       "    <tr>\n",
       "      <th>14</th>\n",
       "      <td>British Islands</td>\n",
       "      <td>63,398,500</td>\n",
       "    </tr>\n",
       "    <tr>\n",
       "      <th>15</th>\n",
       "      <td>Southern Africa</td>\n",
       "      <td>46,886,000</td>\n",
       "    </tr>\n",
       "    <tr>\n",
       "      <th>16</th>\n",
       "      <td>Caribbean</td>\n",
       "      <td>38,140,000</td>\n",
       "    </tr>\n",
       "    <tr>\n",
       "      <th>17</th>\n",
       "      <td>Nordic Countries</td>\n",
       "      <td>24,166,400</td>\n",
       "    </tr>\n",
       "    <tr>\n",
       "      <th>18</th>\n",
       "      <td>Australia and New Zealand</td>\n",
       "      <td>22,753,100</td>\n",
       "    </tr>\n",
       "    <tr>\n",
       "      <th>19</th>\n",
       "      <td>Baltic Countries</td>\n",
       "      <td>7,561,900</td>\n",
       "    </tr>\n",
       "    <tr>\n",
       "      <th>20</th>\n",
       "      <td>Melanesia</td>\n",
       "      <td>6,472,000</td>\n",
       "    </tr>\n",
       "    <tr>\n",
       "      <th>21</th>\n",
       "      <td>Polynesia</td>\n",
       "      <td>633,050</td>\n",
       "    </tr>\n",
       "    <tr>\n",
       "      <th>22</th>\n",
       "      <td>Micronesia</td>\n",
       "      <td>543,000</td>\n",
       "    </tr>\n",
       "    <tr>\n",
       "      <th>23</th>\n",
       "      <td>Antarctica</td>\n",
       "      <td>0</td>\n",
       "    </tr>\n",
       "    <tr>\n",
       "      <th>24</th>\n",
       "      <td>Micronesia/Caribbean</td>\n",
       "      <td>0</td>\n",
       "    </tr>\n",
       "  </tbody>\n",
       "</table>\n",
       "</div>"
      ],
      "text/plain": [
       "                       region         sum_pop\n",
       "0                Eastern Asia   1,507,328,000\n",
       "1   Southern and Central Asia   1,490,776,000\n",
       "2              Southeast Asia     518,541,000\n",
       "3               South America     345,780,000\n",
       "4               North America     309,632,000\n",
       "5              Eastern Europe     307,026,000\n",
       "6              Eastern Africa     246,999,000\n",
       "7              Western Africa     221,672,000\n",
       "8                 Middle East     188,380,700\n",
       "9              Western Europe     183,247,600\n",
       "10            Northern Africa     173,266,000\n",
       "11            Southern Europe     144,674,200\n",
       "12            Central America     135,221,000\n",
       "13             Central Africa      95,652,000\n",
       "14            British Islands      63,398,500\n",
       "15            Southern Africa      46,886,000\n",
       "16                  Caribbean      38,140,000\n",
       "17           Nordic Countries      24,166,400\n",
       "18  Australia and New Zealand      22,753,100\n",
       "19           Baltic Countries       7,561,900\n",
       "20                  Melanesia       6,472,000\n",
       "21                  Polynesia         633,050\n",
       "22                 Micronesia         543,000\n",
       "23                 Antarctica               0\n",
       "24       Micronesia/Caribbean               0"
      ]
     },
     "execution_count": 7,
     "metadata": {},
     "output_type": "execute_result"
    }
   ],
   "source": [
    "query = \"\"\"\n",
    "SELECT\n",
    "    region,\n",
    "    to_char(SUM(population), '9,999,999,999') AS sum_pop\n",
    "FROM\n",
    "    country\n",
    "GROUP BY\n",
    "    region\n",
    "ORDER BY\n",
    "    SUM(population) DESC\n",
    ";\n",
    "\"\"\"\n",
    "\n",
    "pd.read_sql_query(query, con=conn)"
   ]
  },
  {
   "cell_type": "raw",
   "metadata": {},
   "source": [
    "# END SOLUTION"
   ]
  },
  {
   "cell_type": "raw",
   "metadata": {},
   "source": [
    "# END QUESTION"
   ]
  },
  {
   "cell_type": "markdown",
   "metadata": {},
   "source": [
    "### 1.6\n",
    "\n",
    "rubric={accuracy:2}"
   ]
  },
  {
   "cell_type": "markdown",
   "metadata": {},
   "source": [
    "What is the number of countries in each region that have a republic form of government? Sort your results by the number of countries in descending order."
   ]
  },
  {
   "cell_type": "raw",
   "metadata": {},
   "source": [
    "# BEGIN QUESTION\n",
    "name: q1_6"
   ]
  },
  {
   "cell_type": "raw",
   "metadata": {},
   "source": [
    "# BEGIN SOLUTION"
   ]
  },
  {
   "cell_type": "code",
   "execution_count": 8,
   "metadata": {},
   "outputs": [
    {
     "data": {
      "text/html": [
       "<div>\n",
       "<style scoped>\n",
       "    .dataframe tbody tr th:only-of-type {\n",
       "        vertical-align: middle;\n",
       "    }\n",
       "\n",
       "    .dataframe tbody tr th {\n",
       "        vertical-align: top;\n",
       "    }\n",
       "\n",
       "    .dataframe thead th {\n",
       "        text-align: right;\n",
       "    }\n",
       "</style>\n",
       "<table border=\"1\" class=\"dataframe\">\n",
       "  <thead>\n",
       "    <tr style=\"text-align: right;\">\n",
       "      <th></th>\n",
       "      <th>region</th>\n",
       "      <th>count</th>\n",
       "    </tr>\n",
       "  </thead>\n",
       "  <tbody>\n",
       "    <tr>\n",
       "      <th>0</th>\n",
       "      <td>Eastern Africa</td>\n",
       "      <td>17</td>\n",
       "    </tr>\n",
       "    <tr>\n",
       "      <th>1</th>\n",
       "      <td>Western Africa</td>\n",
       "      <td>16</td>\n",
       "    </tr>\n",
       "    <tr>\n",
       "      <th>2</th>\n",
       "      <td>South America</td>\n",
       "      <td>12</td>\n",
       "    </tr>\n",
       "    <tr>\n",
       "      <th>3</th>\n",
       "      <td>Southern and Central Asia</td>\n",
       "      <td>11</td>\n",
       "    </tr>\n",
       "    <tr>\n",
       "      <th>4</th>\n",
       "      <td>Southern Europe</td>\n",
       "      <td>11</td>\n",
       "    </tr>\n",
       "    <tr>\n",
       "      <th>5</th>\n",
       "      <td>Eastern Europe</td>\n",
       "      <td>10</td>\n",
       "    </tr>\n",
       "    <tr>\n",
       "      <th>6</th>\n",
       "      <td>Middle East</td>\n",
       "      <td>10</td>\n",
       "    </tr>\n",
       "    <tr>\n",
       "      <th>7</th>\n",
       "      <td>Central Africa</td>\n",
       "      <td>9</td>\n",
       "    </tr>\n",
       "    <tr>\n",
       "      <th>8</th>\n",
       "      <td>Central America</td>\n",
       "      <td>7</td>\n",
       "    </tr>\n",
       "    <tr>\n",
       "      <th>9</th>\n",
       "      <td>Southeast Asia</td>\n",
       "      <td>6</td>\n",
       "    </tr>\n",
       "    <tr>\n",
       "      <th>10</th>\n",
       "      <td>Caribbean</td>\n",
       "      <td>5</td>\n",
       "    </tr>\n",
       "    <tr>\n",
       "      <th>11</th>\n",
       "      <td>Eastern Asia</td>\n",
       "      <td>5</td>\n",
       "    </tr>\n",
       "    <tr>\n",
       "      <th>12</th>\n",
       "      <td>Micronesia</td>\n",
       "      <td>5</td>\n",
       "    </tr>\n",
       "    <tr>\n",
       "      <th>13</th>\n",
       "      <td>Northern Africa</td>\n",
       "      <td>4</td>\n",
       "    </tr>\n",
       "    <tr>\n",
       "      <th>14</th>\n",
       "      <td>Southern Africa</td>\n",
       "      <td>3</td>\n",
       "    </tr>\n",
       "    <tr>\n",
       "      <th>15</th>\n",
       "      <td>Baltic Countries</td>\n",
       "      <td>3</td>\n",
       "    </tr>\n",
       "    <tr>\n",
       "      <th>16</th>\n",
       "      <td>Western Europe</td>\n",
       "      <td>3</td>\n",
       "    </tr>\n",
       "    <tr>\n",
       "      <th>17</th>\n",
       "      <td>Nordic Countries</td>\n",
       "      <td>2</td>\n",
       "    </tr>\n",
       "    <tr>\n",
       "      <th>18</th>\n",
       "      <td>Melanesia</td>\n",
       "      <td>2</td>\n",
       "    </tr>\n",
       "    <tr>\n",
       "      <th>19</th>\n",
       "      <td>British Islands</td>\n",
       "      <td>1</td>\n",
       "    </tr>\n",
       "    <tr>\n",
       "      <th>20</th>\n",
       "      <td>North America</td>\n",
       "      <td>1</td>\n",
       "    </tr>\n",
       "  </tbody>\n",
       "</table>\n",
       "</div>"
      ],
      "text/plain": [
       "                       region  count\n",
       "0              Eastern Africa     17\n",
       "1              Western Africa     16\n",
       "2               South America     12\n",
       "3   Southern and Central Asia     11\n",
       "4             Southern Europe     11\n",
       "5              Eastern Europe     10\n",
       "6                 Middle East     10\n",
       "7              Central Africa      9\n",
       "8             Central America      7\n",
       "9              Southeast Asia      6\n",
       "10                  Caribbean      5\n",
       "11               Eastern Asia      5\n",
       "12                 Micronesia      5\n",
       "13            Northern Africa      4\n",
       "14            Southern Africa      3\n",
       "15           Baltic Countries      3\n",
       "16             Western Europe      3\n",
       "17           Nordic Countries      2\n",
       "18                  Melanesia      2\n",
       "19            British Islands      1\n",
       "20              North America      1"
      ]
     },
     "execution_count": 8,
     "metadata": {},
     "output_type": "execute_result"
    }
   ],
   "source": [
    "query = \"\"\"\n",
    "SELECT\n",
    "    region,\n",
    "    COUNT(governmentform)\n",
    "FROM\n",
    "    country\n",
    "WHERE\n",
    "    governmentform ~ '(?i)republic'\n",
    "GROUP BY\n",
    "    region\n",
    "ORDER BY\n",
    "    COUNT(governmentform) DESC\n",
    ";\n",
    "\"\"\"\n",
    "\n",
    "pd.read_sql_query(query, con=conn)"
   ]
  },
  {
   "cell_type": "raw",
   "metadata": {},
   "source": [
    "# END SOLUTION"
   ]
  },
  {
   "cell_type": "raw",
   "metadata": {},
   "source": [
    "# END QUESTION"
   ]
  },
  {
   "cell_type": "markdown",
   "metadata": {},
   "source": [
    "### 1.7 (OPTIONAL)\n",
    "\n",
    "rubric={accuracy:2}"
   ]
  },
  {
   "cell_type": "markdown",
   "metadata": {},
   "source": [
    "Using the `countrylanguage` table, write a query to find the `countrycode` and number of spoken languages in countries where \n",
    "\n",
    "- Each listed language is spoken by at least 10% of the population,\n",
    "- There are at least 2 spoken languages in those countries.\n",
    "\n",
    "Sort the resulting rows by the number of listed languages in each country in descending order."
   ]
  },
  {
   "cell_type": "raw",
   "metadata": {},
   "source": [
    "# BEGIN QUESTION\n",
    "name: q1_7"
   ]
  },
  {
   "cell_type": "raw",
   "metadata": {},
   "source": [
    "# BEGIN SOLUTION"
   ]
  },
  {
   "cell_type": "code",
   "execution_count": 9,
   "metadata": {},
   "outputs": [
    {
     "data": {
      "text/html": [
       "<div>\n",
       "<style scoped>\n",
       "    .dataframe tbody tr th:only-of-type {\n",
       "        vertical-align: middle;\n",
       "    }\n",
       "\n",
       "    .dataframe tbody tr th {\n",
       "        vertical-align: top;\n",
       "    }\n",
       "\n",
       "    .dataframe thead th {\n",
       "        text-align: right;\n",
       "    }\n",
       "</style>\n",
       "<table border=\"1\" class=\"dataframe\">\n",
       "  <thead>\n",
       "    <tr style=\"text-align: right;\">\n",
       "      <th></th>\n",
       "      <th>countrycode</th>\n",
       "      <th>num_lang</th>\n",
       "    </tr>\n",
       "  </thead>\n",
       "  <tbody>\n",
       "    <tr>\n",
       "      <th>0</th>\n",
       "      <td>GAB</td>\n",
       "      <td>4</td>\n",
       "    </tr>\n",
       "    <tr>\n",
       "      <th>1</th>\n",
       "      <td>VUT</td>\n",
       "      <td>3</td>\n",
       "    </tr>\n",
       "    <tr>\n",
       "      <th>2</th>\n",
       "      <td>DJI</td>\n",
       "      <td>3</td>\n",
       "    </tr>\n",
       "    <tr>\n",
       "      <th>3</th>\n",
       "      <td>LKA</td>\n",
       "      <td>3</td>\n",
       "    </tr>\n",
       "    <tr>\n",
       "      <th>4</th>\n",
       "      <td>MYT</td>\n",
       "      <td>3</td>\n",
       "    </tr>\n",
       "    <tr>\n",
       "      <th>5</th>\n",
       "      <td>NCL</td>\n",
       "      <td>3</td>\n",
       "    </tr>\n",
       "    <tr>\n",
       "      <th>6</th>\n",
       "      <td>BTN</td>\n",
       "      <td>3</td>\n",
       "    </tr>\n",
       "    <tr>\n",
       "      <th>7</th>\n",
       "      <td>MAR</td>\n",
       "      <td>2</td>\n",
       "    </tr>\n",
       "    <tr>\n",
       "      <th>8</th>\n",
       "      <td>PRI</td>\n",
       "      <td>2</td>\n",
       "    </tr>\n",
       "    <tr>\n",
       "      <th>9</th>\n",
       "      <td>LCA</td>\n",
       "      <td>2</td>\n",
       "    </tr>\n",
       "    <tr>\n",
       "      <th>10</th>\n",
       "      <td>DZA</td>\n",
       "      <td>2</td>\n",
       "    </tr>\n",
       "    <tr>\n",
       "      <th>11</th>\n",
       "      <td>FJI</td>\n",
       "      <td>2</td>\n",
       "    </tr>\n",
       "    <tr>\n",
       "      <th>12</th>\n",
       "      <td>GRL</td>\n",
       "      <td>2</td>\n",
       "    </tr>\n",
       "    <tr>\n",
       "      <th>13</th>\n",
       "      <td>BHS</td>\n",
       "      <td>2</td>\n",
       "    </tr>\n",
       "    <tr>\n",
       "      <th>14</th>\n",
       "      <td>PNG</td>\n",
       "      <td>2</td>\n",
       "    </tr>\n",
       "    <tr>\n",
       "      <th>15</th>\n",
       "      <td>CYP</td>\n",
       "      <td>2</td>\n",
       "    </tr>\n",
       "  </tbody>\n",
       "</table>\n",
       "</div>"
      ],
      "text/plain": [
       "   countrycode  num_lang\n",
       "0          GAB         4\n",
       "1          VUT         3\n",
       "2          DJI         3\n",
       "3          LKA         3\n",
       "4          MYT         3\n",
       "5          NCL         3\n",
       "6          BTN         3\n",
       "7          MAR         2\n",
       "8          PRI         2\n",
       "9          LCA         2\n",
       "10         DZA         2\n",
       "11         FJI         2\n",
       "12         GRL         2\n",
       "13         BHS         2\n",
       "14         PNG         2\n",
       "15         CYP         2"
      ]
     },
     "execution_count": 9,
     "metadata": {},
     "output_type": "execute_result"
    }
   ],
   "source": [
    "query = \"\"\"\n",
    "SELECT\n",
    "    countrycode,\n",
    "    COUNT(*) AS num_lang\n",
    "FROM\n",
    "    countrylanguage\n",
    "GROUP BY\n",
    "    countrycode\n",
    "HAVING\n",
    "    MIN(percentage) >= 10\n",
    "    AND\n",
    "    COUNT(*) > 1\n",
    "ORDER BY\n",
    "    COUNT(*) DESC\n",
    ";\n",
    "\"\"\"\n",
    "\n",
    "pd.read_sql_query(query, con=conn)"
   ]
  },
  {
   "cell_type": "raw",
   "metadata": {},
   "source": [
    "# END SOLUTION"
   ]
  },
  {
   "cell_type": "raw",
   "metadata": {},
   "source": [
    "# END QUESTION"
   ]
  },
  {
   "cell_type": "markdown",
   "metadata": {},
   "source": [
    "### 1.8\n",
    "\n",
    "rubric={accuracy:2}"
   ]
  },
  {
   "cell_type": "markdown",
   "metadata": {},
   "source": [
    "Write a query to find the `countrycode` of countries that have at least 3 official languages. To verify your results, also return the number of official languages and name the corresponding column `num_official_lang`. Sort the returned rows according to this column in descending order."
   ]
  },
  {
   "cell_type": "raw",
   "metadata": {},
   "source": [
    "# BEGIN QUESTION\n",
    "name: q1_8"
   ]
  },
  {
   "cell_type": "raw",
   "metadata": {},
   "source": [
    "# BEGIN SOLUTION"
   ]
  },
  {
   "cell_type": "code",
   "execution_count": 10,
   "metadata": {},
   "outputs": [
    {
     "data": {
      "text/html": [
       "<div>\n",
       "<style scoped>\n",
       "    .dataframe tbody tr th:only-of-type {\n",
       "        vertical-align: middle;\n",
       "    }\n",
       "\n",
       "    .dataframe tbody tr th {\n",
       "        vertical-align: top;\n",
       "    }\n",
       "\n",
       "    .dataframe thead th {\n",
       "        text-align: right;\n",
       "    }\n",
       "</style>\n",
       "<table border=\"1\" class=\"dataframe\">\n",
       "  <thead>\n",
       "    <tr style=\"text-align: right;\">\n",
       "      <th></th>\n",
       "      <th>countrycode</th>\n",
       "      <th>num_official_lang</th>\n",
       "    </tr>\n",
       "  </thead>\n",
       "  <tbody>\n",
       "    <tr>\n",
       "      <th>0</th>\n",
       "      <td>CHE</td>\n",
       "      <td>4</td>\n",
       "    </tr>\n",
       "    <tr>\n",
       "      <th>1</th>\n",
       "      <td>ZAF</td>\n",
       "      <td>4</td>\n",
       "    </tr>\n",
       "    <tr>\n",
       "      <th>2</th>\n",
       "      <td>SGP</td>\n",
       "      <td>3</td>\n",
       "    </tr>\n",
       "    <tr>\n",
       "      <th>3</th>\n",
       "      <td>BOL</td>\n",
       "      <td>3</td>\n",
       "    </tr>\n",
       "    <tr>\n",
       "      <th>4</th>\n",
       "      <td>LUX</td>\n",
       "      <td>3</td>\n",
       "    </tr>\n",
       "    <tr>\n",
       "      <th>5</th>\n",
       "      <td>BEL</td>\n",
       "      <td>3</td>\n",
       "    </tr>\n",
       "    <tr>\n",
       "      <th>6</th>\n",
       "      <td>PER</td>\n",
       "      <td>3</td>\n",
       "    </tr>\n",
       "    <tr>\n",
       "      <th>7</th>\n",
       "      <td>VUT</td>\n",
       "      <td>3</td>\n",
       "    </tr>\n",
       "  </tbody>\n",
       "</table>\n",
       "</div>"
      ],
      "text/plain": [
       "  countrycode  num_official_lang\n",
       "0         CHE                  4\n",
       "1         ZAF                  4\n",
       "2         SGP                  3\n",
       "3         BOL                  3\n",
       "4         LUX                  3\n",
       "5         BEL                  3\n",
       "6         PER                  3\n",
       "7         VUT                  3"
      ]
     },
     "execution_count": 10,
     "metadata": {},
     "output_type": "execute_result"
    }
   ],
   "source": [
    "query = \"\"\"\n",
    "SELECT\n",
    "    countrycode,\n",
    "    COUNT(*) AS num_official_lang\n",
    "FROM\n",
    "    countrylanguage\n",
    "WHERE\n",
    "    isofficial = TRUE\n",
    "GROUP BY\n",
    "    countrycode\n",
    "HAVING\n",
    "    COUNT(*) >= 3\n",
    "ORDER BY\n",
    "    num_official_lang DESC\n",
    ";\n",
    "\"\"\"\n",
    "\n",
    "pd.read_sql_query(query, con=conn)"
   ]
  },
  {
   "cell_type": "raw",
   "metadata": {},
   "source": [
    "# END SOLUTION"
   ]
  },
  {
   "cell_type": "raw",
   "metadata": {},
   "source": [
    "# END QUESTION"
   ]
  },
  {
   "cell_type": "markdown",
   "metadata": {
    "tags": []
   },
   "source": [
    "## Exercise 2: Why don't you `JOIN` us?\n",
    "---"
   ]
  },
  {
   "cell_type": "markdown",
   "metadata": {},
   "source": [
    "### 2.1\n",
    "\n",
    "rubric={accuracy:2}"
   ]
  },
  {
   "cell_type": "markdown",
   "metadata": {},
   "source": [
    "It's hard to figure out which countries we're talking about in Exercise [1.8](#1.8) just by looking at their codes. Copy the query you wrote in Exercise [1.8](#1.8) here, and modify it such that it returns the name of each country instead of country code.\n",
    "\n",
    ">**Hint:** You need to join the `country` and `countrylanguage` tables."
   ]
  },
  {
   "cell_type": "raw",
   "metadata": {},
   "source": [
    "# BEGIN QUESTION\n",
    "name: q2_1"
   ]
  },
  {
   "cell_type": "raw",
   "metadata": {},
   "source": [
    "# BEGIN SOLUTION"
   ]
  },
  {
   "cell_type": "code",
   "execution_count": 11,
   "metadata": {},
   "outputs": [
    {
     "data": {
      "text/html": [
       "<div>\n",
       "<style scoped>\n",
       "    .dataframe tbody tr th:only-of-type {\n",
       "        vertical-align: middle;\n",
       "    }\n",
       "\n",
       "    .dataframe tbody tr th {\n",
       "        vertical-align: top;\n",
       "    }\n",
       "\n",
       "    .dataframe thead th {\n",
       "        text-align: right;\n",
       "    }\n",
       "</style>\n",
       "<table border=\"1\" class=\"dataframe\">\n",
       "  <thead>\n",
       "    <tr style=\"text-align: right;\">\n",
       "      <th></th>\n",
       "      <th>name</th>\n",
       "      <th>num_official_lang</th>\n",
       "    </tr>\n",
       "  </thead>\n",
       "  <tbody>\n",
       "    <tr>\n",
       "      <th>0</th>\n",
       "      <td>Switzerland</td>\n",
       "      <td>4</td>\n",
       "    </tr>\n",
       "    <tr>\n",
       "      <th>1</th>\n",
       "      <td>South Africa</td>\n",
       "      <td>4</td>\n",
       "    </tr>\n",
       "    <tr>\n",
       "      <th>2</th>\n",
       "      <td>Vanuatu</td>\n",
       "      <td>3</td>\n",
       "    </tr>\n",
       "    <tr>\n",
       "      <th>3</th>\n",
       "      <td>Belgium</td>\n",
       "      <td>3</td>\n",
       "    </tr>\n",
       "    <tr>\n",
       "      <th>4</th>\n",
       "      <td>Luxembourg</td>\n",
       "      <td>3</td>\n",
       "    </tr>\n",
       "    <tr>\n",
       "      <th>5</th>\n",
       "      <td>Peru</td>\n",
       "      <td>3</td>\n",
       "    </tr>\n",
       "    <tr>\n",
       "      <th>6</th>\n",
       "      <td>Bolivia</td>\n",
       "      <td>3</td>\n",
       "    </tr>\n",
       "    <tr>\n",
       "      <th>7</th>\n",
       "      <td>Singapore</td>\n",
       "      <td>3</td>\n",
       "    </tr>\n",
       "  </tbody>\n",
       "</table>\n",
       "</div>"
      ],
      "text/plain": [
       "           name  num_official_lang\n",
       "0   Switzerland                  4\n",
       "1  South Africa                  4\n",
       "2       Vanuatu                  3\n",
       "3       Belgium                  3\n",
       "4    Luxembourg                  3\n",
       "5          Peru                  3\n",
       "6       Bolivia                  3\n",
       "7     Singapore                  3"
      ]
     },
     "execution_count": 11,
     "metadata": {},
     "output_type": "execute_result"
    }
   ],
   "source": [
    "query = \"\"\"\n",
    "SELECT\n",
    "    c.name,\n",
    "    COUNT(*) AS num_official_lang\n",
    "FROM\n",
    "    countrylanguage AS cl\n",
    "JOIN\n",
    "    country AS c\n",
    "ON\n",
    "    c.code = cl.countrycode\n",
    "WHERE\n",
    "    cl.isofficial = TRUE\n",
    "GROUP BY\n",
    "    c.name\n",
    "HAVING\n",
    "    COUNT(*) >= 3\n",
    "ORDER BY\n",
    "    COUNT(*) DESC\n",
    ";\n",
    "\"\"\"\n",
    "\n",
    "pd.read_sql_query(query, con=conn)"
   ]
  },
  {
   "cell_type": "raw",
   "metadata": {},
   "source": [
    "# END SOLUTION"
   ]
  },
  {
   "cell_type": "raw",
   "metadata": {},
   "source": [
    "# END QUESTION"
   ]
  },
  {
   "cell_type": "markdown",
   "metadata": {},
   "source": [
    "### 2.2\n",
    "\n",
    "rubric={accuracy:2}"
   ]
  },
  {
   "cell_type": "markdown",
   "metadata": {},
   "source": [
    "Write a query that finds the ratio of the population of each country's capital city to its entire population shown as a percentage value, for countries that have a population of at least 1,000,000.\n",
    "\n",
    "- Your query should list the country name, capital city, and the population ratio percentage value\n",
    "- Name the population ratio column `pop_ratio`, and round the values to 1 decimal digit\n",
    "- Sort your results in descending order by the population percentage\n",
    "- Limit the number of returned countries to 20 in your SQL query\n",
    "\n",
    "> **Hint:** Watch out for integer division; use type conversion if needed."
   ]
  },
  {
   "cell_type": "raw",
   "metadata": {},
   "source": [
    "# BEGIN QUESTION\n",
    "name: q2_2"
   ]
  },
  {
   "cell_type": "raw",
   "metadata": {},
   "source": [
    "# BEGIN SOLUTION"
   ]
  },
  {
   "cell_type": "code",
   "execution_count": 12,
   "metadata": {},
   "outputs": [
    {
     "data": {
      "text/html": [
       "<div>\n",
       "<style scoped>\n",
       "    .dataframe tbody tr th:only-of-type {\n",
       "        vertical-align: middle;\n",
       "    }\n",
       "\n",
       "    .dataframe tbody tr th {\n",
       "        vertical-align: top;\n",
       "    }\n",
       "\n",
       "    .dataframe thead th {\n",
       "        text-align: right;\n",
       "    }\n",
       "</style>\n",
       "<table border=\"1\" class=\"dataframe\">\n",
       "  <thead>\n",
       "    <tr style=\"text-align: right;\">\n",
       "      <th></th>\n",
       "      <th>Country</th>\n",
       "      <th>Capital</th>\n",
       "      <th>pop_ratio</th>\n",
       "    </tr>\n",
       "  </thead>\n",
       "  <tbody>\n",
       "    <tr>\n",
       "      <th>0</th>\n",
       "      <td>Singapore</td>\n",
       "      <td>Singapore</td>\n",
       "      <td>112.6</td>\n",
       "    </tr>\n",
       "    <tr>\n",
       "      <th>1</th>\n",
       "      <td>Uruguay</td>\n",
       "      <td>Montevideo</td>\n",
       "      <td>37.0</td>\n",
       "    </tr>\n",
       "    <tr>\n",
       "      <th>2</th>\n",
       "      <td>Armenia</td>\n",
       "      <td>Yerevan</td>\n",
       "      <td>35.5</td>\n",
       "    </tr>\n",
       "    <tr>\n",
       "      <th>3</th>\n",
       "      <td>Gabon</td>\n",
       "      <td>Libreville</td>\n",
       "      <td>34.2</td>\n",
       "    </tr>\n",
       "    <tr>\n",
       "      <th>4</th>\n",
       "      <td>Lebanon</td>\n",
       "      <td>Beirut</td>\n",
       "      <td>33.5</td>\n",
       "    </tr>\n",
       "    <tr>\n",
       "      <th>5</th>\n",
       "      <td>Congo</td>\n",
       "      <td>Brazzaville</td>\n",
       "      <td>32.3</td>\n",
       "    </tr>\n",
       "    <tr>\n",
       "      <th>6</th>\n",
       "      <td>Latvia</td>\n",
       "      <td>Riga</td>\n",
       "      <td>31.5</td>\n",
       "    </tr>\n",
       "    <tr>\n",
       "      <th>7</th>\n",
       "      <td>Chile</td>\n",
       "      <td>Santiago de Chile</td>\n",
       "      <td>30.9</td>\n",
       "    </tr>\n",
       "    <tr>\n",
       "      <th>8</th>\n",
       "      <td>Libyan Arab Jamahiriya</td>\n",
       "      <td>Tripoli</td>\n",
       "      <td>30.0</td>\n",
       "    </tr>\n",
       "    <tr>\n",
       "      <th>9</th>\n",
       "      <td>Mongolia</td>\n",
       "      <td>Ulan Bator</td>\n",
       "      <td>29.1</td>\n",
       "    </tr>\n",
       "    <tr>\n",
       "      <th>10</th>\n",
       "      <td>Estonia</td>\n",
       "      <td>Tallinn</td>\n",
       "      <td>28.1</td>\n",
       "    </tr>\n",
       "    <tr>\n",
       "      <th>11</th>\n",
       "      <td>Liberia</td>\n",
       "      <td>Monrovia</td>\n",
       "      <td>26.9</td>\n",
       "    </tr>\n",
       "    <tr>\n",
       "      <th>12</th>\n",
       "      <td>Peru</td>\n",
       "      <td>Lima</td>\n",
       "      <td>25.2</td>\n",
       "    </tr>\n",
       "    <tr>\n",
       "      <th>13</th>\n",
       "      <td>Mauritania</td>\n",
       "      <td>Nouakchott</td>\n",
       "      <td>25.0</td>\n",
       "    </tr>\n",
       "    <tr>\n",
       "      <th>14</th>\n",
       "      <td>Georgia</td>\n",
       "      <td>Tbilisi</td>\n",
       "      <td>24.9</td>\n",
       "    </tr>\n",
       "    <tr>\n",
       "      <th>15</th>\n",
       "      <td>Azerbaijan</td>\n",
       "      <td>Baku</td>\n",
       "      <td>23.1</td>\n",
       "    </tr>\n",
       "    <tr>\n",
       "      <th>16</th>\n",
       "      <td>Macedonia</td>\n",
       "      <td>Skopje</td>\n",
       "      <td>22.0</td>\n",
       "    </tr>\n",
       "    <tr>\n",
       "      <th>17</th>\n",
       "      <td>South Korea</td>\n",
       "      <td>Seoul</td>\n",
       "      <td>21.3</td>\n",
       "    </tr>\n",
       "    <tr>\n",
       "      <th>18</th>\n",
       "      <td>Cuba</td>\n",
       "      <td>La Habana</td>\n",
       "      <td>20.1</td>\n",
       "    </tr>\n",
       "    <tr>\n",
       "      <th>19</th>\n",
       "      <td>Guinea-Bissau</td>\n",
       "      <td>Bissau</td>\n",
       "      <td>19.9</td>\n",
       "    </tr>\n",
       "  </tbody>\n",
       "</table>\n",
       "</div>"
      ],
      "text/plain": [
       "                   Country            Capital  pop_ratio\n",
       "0                Singapore          Singapore      112.6\n",
       "1                  Uruguay         Montevideo       37.0\n",
       "2                  Armenia            Yerevan       35.5\n",
       "3                    Gabon         Libreville       34.2\n",
       "4                  Lebanon             Beirut       33.5\n",
       "5                    Congo        Brazzaville       32.3\n",
       "6                   Latvia               Riga       31.5\n",
       "7                    Chile  Santiago de Chile       30.9\n",
       "8   Libyan Arab Jamahiriya            Tripoli       30.0\n",
       "9                 Mongolia         Ulan Bator       29.1\n",
       "10                 Estonia            Tallinn       28.1\n",
       "11                 Liberia           Monrovia       26.9\n",
       "12                    Peru               Lima       25.2\n",
       "13              Mauritania         Nouakchott       25.0\n",
       "14                 Georgia            Tbilisi       24.9\n",
       "15              Azerbaijan               Baku       23.1\n",
       "16               Macedonia             Skopje       22.0\n",
       "17             South Korea              Seoul       21.3\n",
       "18                    Cuba          La Habana       20.1\n",
       "19           Guinea-Bissau             Bissau       19.9"
      ]
     },
     "execution_count": 12,
     "metadata": {},
     "output_type": "execute_result"
    }
   ],
   "source": [
    "query = \"\"\"\n",
    "SELECT\n",
    "    c.name \"Country\",\n",
    "    ci.name \"Capital\",\n",
    "    ROUND(ci.population::NUMERIC / c.population * 100, 1) pop_ratio\n",
    "FROM\n",
    "    country c\n",
    "JOIN\n",
    "    city ci\n",
    "ON\n",
    "    c.capital = ci.id\n",
    "WHERE\n",
    "    c.population >= 1000000\n",
    "ORDER BY\n",
    "    ROUND(ci.population::NUMERIC / c.population * 100, 1) DESC\n",
    "LIMIT 20\n",
    ";\n",
    "\"\"\"\n",
    "\n",
    "pd.read_sql_query(query, con=conn)"
   ]
  },
  {
   "cell_type": "raw",
   "metadata": {},
   "source": [
    "# END SOLUTION"
   ]
  },
  {
   "cell_type": "raw",
   "metadata": {},
   "source": [
    "# END QUESTION"
   ]
  },
  {
   "cell_type": "markdown",
   "metadata": {},
   "source": [
    "### 2.3\n",
    "\n",
    "rubric={accuracy:2}"
   ]
  },
  {
   "cell_type": "markdown",
   "metadata": {},
   "source": [
    "Write a query that lists country names along with the average population and number of their listed cities.\n",
    "\n",
    "- Pick appropriate names for the columns in your results. They can be anything you like.\n",
    "- Use `to_char()` (which you've learned in a previous exercise in this lab) to format the average populations such that groups of thousands are separated by commas, and decimal digits are eliminated. For example, 1656782.25 should be shown as 1,656,782.\n",
    "- Sort the results by the number of cities in each country in descending order\n",
    "- limit the number of returned rows to 20."
   ]
  },
  {
   "cell_type": "raw",
   "metadata": {},
   "source": [
    "# BEGIN QUESTION\n",
    "name: q2_3"
   ]
  },
  {
   "cell_type": "raw",
   "metadata": {},
   "source": [
    "# BEGIN SOLUTION"
   ]
  },
  {
   "cell_type": "code",
   "execution_count": 13,
   "metadata": {},
   "outputs": [
    {
     "data": {
      "text/html": [
       "<div>\n",
       "<style scoped>\n",
       "    .dataframe tbody tr th:only-of-type {\n",
       "        vertical-align: middle;\n",
       "    }\n",
       "\n",
       "    .dataframe tbody tr th {\n",
       "        vertical-align: top;\n",
       "    }\n",
       "\n",
       "    .dataframe thead th {\n",
       "        text-align: right;\n",
       "    }\n",
       "</style>\n",
       "<table border=\"1\" class=\"dataframe\">\n",
       "  <thead>\n",
       "    <tr style=\"text-align: right;\">\n",
       "      <th></th>\n",
       "      <th>Country</th>\n",
       "      <th>Average population</th>\n",
       "      <th>Number of cities</th>\n",
       "    </tr>\n",
       "  </thead>\n",
       "  <tbody>\n",
       "    <tr>\n",
       "      <th>0</th>\n",
       "      <td>China</td>\n",
       "      <td>484,721</td>\n",
       "      <td>363</td>\n",
       "    </tr>\n",
       "    <tr>\n",
       "      <th>1</th>\n",
       "      <td>India</td>\n",
       "      <td>361,579</td>\n",
       "      <td>341</td>\n",
       "    </tr>\n",
       "    <tr>\n",
       "      <th>2</th>\n",
       "      <td>United States</td>\n",
       "      <td>286,955</td>\n",
       "      <td>274</td>\n",
       "    </tr>\n",
       "    <tr>\n",
       "      <th>3</th>\n",
       "      <td>Brazil</td>\n",
       "      <td>343,507</td>\n",
       "      <td>250</td>\n",
       "    </tr>\n",
       "    <tr>\n",
       "      <th>4</th>\n",
       "      <td>Japan</td>\n",
       "      <td>314,375</td>\n",
       "      <td>248</td>\n",
       "    </tr>\n",
       "    <tr>\n",
       "      <th>5</th>\n",
       "      <td>Russian Federation</td>\n",
       "      <td>365,877</td>\n",
       "      <td>189</td>\n",
       "    </tr>\n",
       "    <tr>\n",
       "      <th>6</th>\n",
       "      <td>Mexico</td>\n",
       "      <td>345,390</td>\n",
       "      <td>173</td>\n",
       "    </tr>\n",
       "    <tr>\n",
       "      <th>7</th>\n",
       "      <td>Philippines</td>\n",
       "      <td>227,462</td>\n",
       "      <td>136</td>\n",
       "    </tr>\n",
       "    <tr>\n",
       "      <th>8</th>\n",
       "      <td>Germany</td>\n",
       "      <td>282,209</td>\n",
       "      <td>93</td>\n",
       "    </tr>\n",
       "    <tr>\n",
       "      <th>9</th>\n",
       "      <td>Indonesia</td>\n",
       "      <td>441,008</td>\n",
       "      <td>85</td>\n",
       "    </tr>\n",
       "    <tr>\n",
       "      <th>10</th>\n",
       "      <td>United Kingdom</td>\n",
       "      <td>276,996</td>\n",
       "      <td>81</td>\n",
       "    </tr>\n",
       "    <tr>\n",
       "      <th>11</th>\n",
       "      <td>South Korea</td>\n",
       "      <td>557,141</td>\n",
       "      <td>70</td>\n",
       "    </tr>\n",
       "    <tr>\n",
       "      <th>12</th>\n",
       "      <td>Iran</td>\n",
       "      <td>388,552</td>\n",
       "      <td>67</td>\n",
       "    </tr>\n",
       "    <tr>\n",
       "      <th>13</th>\n",
       "      <td>Nigeria</td>\n",
       "      <td>271,358</td>\n",
       "      <td>64</td>\n",
       "    </tr>\n",
       "    <tr>\n",
       "      <th>14</th>\n",
       "      <td>Turkey</td>\n",
       "      <td>456,888</td>\n",
       "      <td>62</td>\n",
       "    </tr>\n",
       "    <tr>\n",
       "      <th>15</th>\n",
       "      <td>Pakistan</td>\n",
       "      <td>534,691</td>\n",
       "      <td>59</td>\n",
       "    </tr>\n",
       "    <tr>\n",
       "      <th>16</th>\n",
       "      <td>Spain</td>\n",
       "      <td>282,529</td>\n",
       "      <td>59</td>\n",
       "    </tr>\n",
       "    <tr>\n",
       "      <th>17</th>\n",
       "      <td>Italy</td>\n",
       "      <td>260,121</td>\n",
       "      <td>58</td>\n",
       "    </tr>\n",
       "    <tr>\n",
       "      <th>18</th>\n",
       "      <td>Ukraine</td>\n",
       "      <td>352,175</td>\n",
       "      <td>57</td>\n",
       "    </tr>\n",
       "    <tr>\n",
       "      <th>19</th>\n",
       "      <td>Argentina</td>\n",
       "      <td>350,817</td>\n",
       "      <td>57</td>\n",
       "    </tr>\n",
       "  </tbody>\n",
       "</table>\n",
       "</div>"
      ],
      "text/plain": [
       "               Country Average population  Number of cities\n",
       "0                China            484,721               363\n",
       "1                India            361,579               341\n",
       "2        United States            286,955               274\n",
       "3               Brazil            343,507               250\n",
       "4                Japan            314,375               248\n",
       "5   Russian Federation            365,877               189\n",
       "6               Mexico            345,390               173\n",
       "7          Philippines            227,462               136\n",
       "8              Germany            282,209                93\n",
       "9            Indonesia            441,008                85\n",
       "10      United Kingdom            276,996                81\n",
       "11         South Korea            557,141                70\n",
       "12                Iran            388,552                67\n",
       "13             Nigeria            271,358                64\n",
       "14              Turkey            456,888                62\n",
       "15            Pakistan            534,691                59\n",
       "16               Spain            282,529                59\n",
       "17               Italy            260,121                58\n",
       "18             Ukraine            352,175                57\n",
       "19           Argentina            350,817                57"
      ]
     },
     "execution_count": 13,
     "metadata": {},
     "output_type": "execute_result"
    }
   ],
   "source": [
    "query = \"\"\"\n",
    "SELECT\n",
    "    c.name \"Country\",\n",
    "    to_char(AVG(ci.population), '999,999,999') \"Average population\",\n",
    "    COUNT(ci.name) \"Number of cities\"\n",
    "FROM\n",
    "    country c\n",
    "JOIN\n",
    "    city ci\n",
    "ON\n",
    "    c.code = ci.countrycode\n",
    "GROUP BY\n",
    "    c.name\n",
    "ORDER BY\n",
    "    \"Number of cities\" DESC\n",
    "LIMIT 20\n",
    ";\n",
    "\"\"\"\n",
    "\n",
    "pd.read_sql_query(query, con=conn)"
   ]
  },
  {
   "cell_type": "raw",
   "metadata": {},
   "source": [
    "# END SOLUTION"
   ]
  },
  {
   "cell_type": "raw",
   "metadata": {},
   "source": [
    "# END QUESTION"
   ]
  },
  {
   "cell_type": "markdown",
   "metadata": {},
   "source": [
    "### 2.4 (OPTIONAL)\n",
    "\n",
    "rubric={accuracy:2}"
   ]
  },
  {
   "cell_type": "markdown",
   "metadata": {},
   "source": [
    "Write a query that returns country names, and their region and population along with\n",
    "\n",
    "- the number of official languages in each country\n",
    "- the number of cities of each country having a population of over 1 million\n",
    "\n",
    "for countries that have at least 1 official language AND 1 city with a population of over 1 million.\n",
    "\n",
    "Make sure that\n",
    "\n",
    "- Give appropriate names to the additional columns\n",
    "- Sort your results in descending order by the number of official languages in each country\n",
    "\n",
    "> **Hint:** Since you need to do 3 joins, you'll get a lot of duplicates. Make sure to count only unique values!"
   ]
  },
  {
   "cell_type": "raw",
   "metadata": {},
   "source": [
    "# BEGIN QUESTION\n",
    "name: q2_4"
   ]
  },
  {
   "cell_type": "raw",
   "metadata": {},
   "source": [
    "# BEGIN SOLUTION"
   ]
  },
  {
   "cell_type": "code",
   "execution_count": 14,
   "metadata": {
    "tags": []
   },
   "outputs": [
    {
     "data": {
      "text/html": [
       "<div>\n",
       "<style scoped>\n",
       "    .dataframe tbody tr th:only-of-type {\n",
       "        vertical-align: middle;\n",
       "    }\n",
       "\n",
       "    .dataframe tbody tr th {\n",
       "        vertical-align: top;\n",
       "    }\n",
       "\n",
       "    .dataframe thead th {\n",
       "        text-align: right;\n",
       "    }\n",
       "</style>\n",
       "<table border=\"1\" class=\"dataframe\">\n",
       "  <thead>\n",
       "    <tr style=\"text-align: right;\">\n",
       "      <th></th>\n",
       "      <th>name</th>\n",
       "      <th>region</th>\n",
       "      <th>population</th>\n",
       "      <th># of official languages</th>\n",
       "      <th># of cities with pop &gt; 1 million</th>\n",
       "    </tr>\n",
       "  </thead>\n",
       "  <tbody>\n",
       "    <tr>\n",
       "      <th>0</th>\n",
       "      <td>South Africa</td>\n",
       "      <td>Southern Africa</td>\n",
       "      <td>40377000</td>\n",
       "      <td>4</td>\n",
       "      <td>1</td>\n",
       "    </tr>\n",
       "    <tr>\n",
       "      <th>1</th>\n",
       "      <td>Singapore</td>\n",
       "      <td>Southeast Asia</td>\n",
       "      <td>3567000</td>\n",
       "      <td>3</td>\n",
       "      <td>1</td>\n",
       "    </tr>\n",
       "    <tr>\n",
       "      <th>2</th>\n",
       "      <td>Peru</td>\n",
       "      <td>South America</td>\n",
       "      <td>25662000</td>\n",
       "      <td>3</td>\n",
       "      <td>1</td>\n",
       "    </tr>\n",
       "    <tr>\n",
       "      <th>3</th>\n",
       "      <td>Afghanistan</td>\n",
       "      <td>Southern and Central Asia</td>\n",
       "      <td>22720000</td>\n",
       "      <td>2</td>\n",
       "      <td>1</td>\n",
       "    </tr>\n",
       "    <tr>\n",
       "      <th>4</th>\n",
       "      <td>Romania</td>\n",
       "      <td>Eastern Europe</td>\n",
       "      <td>22455500</td>\n",
       "      <td>2</td>\n",
       "      <td>1</td>\n",
       "    </tr>\n",
       "    <tr>\n",
       "      <th>...</th>\n",
       "      <td>...</td>\n",
       "      <td>...</td>\n",
       "      <td>...</td>\n",
       "      <td>...</td>\n",
       "      <td>...</td>\n",
       "    </tr>\n",
       "    <tr>\n",
       "      <th>60</th>\n",
       "      <td>Armenia</td>\n",
       "      <td>Middle East</td>\n",
       "      <td>3520000</td>\n",
       "      <td>1</td>\n",
       "      <td>1</td>\n",
       "    </tr>\n",
       "    <tr>\n",
       "      <th>61</th>\n",
       "      <td>Australia</td>\n",
       "      <td>Australia and New Zealand</td>\n",
       "      <td>18886000</td>\n",
       "      <td>1</td>\n",
       "      <td>4</td>\n",
       "    </tr>\n",
       "    <tr>\n",
       "      <th>62</th>\n",
       "      <td>Austria</td>\n",
       "      <td>Western Europe</td>\n",
       "      <td>8091800</td>\n",
       "      <td>1</td>\n",
       "      <td>1</td>\n",
       "    </tr>\n",
       "    <tr>\n",
       "      <th>63</th>\n",
       "      <td>Azerbaijan</td>\n",
       "      <td>Middle East</td>\n",
       "      <td>7734000</td>\n",
       "      <td>1</td>\n",
       "      <td>1</td>\n",
       "    </tr>\n",
       "    <tr>\n",
       "      <th>64</th>\n",
       "      <td>Bangladesh</td>\n",
       "      <td>Southern and Central Asia</td>\n",
       "      <td>129155000</td>\n",
       "      <td>1</td>\n",
       "      <td>2</td>\n",
       "    </tr>\n",
       "  </tbody>\n",
       "</table>\n",
       "<p>65 rows × 5 columns</p>\n",
       "</div>"
      ],
      "text/plain": [
       "            name                     region  population  \\\n",
       "0   South Africa            Southern Africa    40377000   \n",
       "1      Singapore             Southeast Asia     3567000   \n",
       "2           Peru              South America    25662000   \n",
       "3    Afghanistan  Southern and Central Asia    22720000   \n",
       "4        Romania             Eastern Europe    22455500   \n",
       "..           ...                        ...         ...   \n",
       "60       Armenia                Middle East     3520000   \n",
       "61     Australia  Australia and New Zealand    18886000   \n",
       "62       Austria             Western Europe     8091800   \n",
       "63    Azerbaijan                Middle East     7734000   \n",
       "64    Bangladesh  Southern and Central Asia   129155000   \n",
       "\n",
       "    # of official languages  # of cities with pop > 1 million  \n",
       "0                         4                                 1  \n",
       "1                         3                                 1  \n",
       "2                         3                                 1  \n",
       "3                         2                                 1  \n",
       "4                         2                                 1  \n",
       "..                      ...                               ...  \n",
       "60                        1                                 1  \n",
       "61                        1                                 4  \n",
       "62                        1                                 1  \n",
       "63                        1                                 1  \n",
       "64                        1                                 2  \n",
       "\n",
       "[65 rows x 5 columns]"
      ]
     },
     "execution_count": 14,
     "metadata": {},
     "output_type": "execute_result"
    }
   ],
   "source": [
    "query = \"\"\"\n",
    "SELECT\n",
    "    co.name,\n",
    "    co.region,\n",
    "    co.population,\n",
    "    COUNT(DISTINCT cl.language) AS \"# of official languages\", \n",
    "    COUNT(DISTINCT ci.name) AS \"# of cities with pop > 1 million\"\n",
    "FROM\n",
    "    country co\n",
    "JOIN\n",
    "    city ci\n",
    "ON\n",
    "    co.code = ci.countrycode\n",
    "JOIN\n",
    "    countrylanguage cl\n",
    "ON\n",
    "    co.code = cl.countrycode\n",
    "WHERE\n",
    "    ci.population > 1000000\n",
    "    AND\n",
    "    cl.isofficial = TRUE\n",
    "GROUP BY\n",
    "    co.code, co.region\n",
    "ORDER BY\n",
    "    \"# of official languages\" DESC\n",
    ";\n",
    "\"\"\"\n",
    "\n",
    "pd.read_sql_query(query, con=conn)"
   ]
  },
  {
   "cell_type": "raw",
   "metadata": {},
   "source": [
    "# END SOLUTION"
   ]
  },
  {
   "cell_type": "raw",
   "metadata": {},
   "source": [
    "# END QUESTION"
   ]
  },
  {
   "cell_type": "markdown",
   "metadata": {},
   "source": [
    "### 2.5\n",
    "\n",
    "rubric={accuracy:3}"
   ]
  },
  {
   "cell_type": "markdown",
   "metadata": {},
   "source": [
    "Now that we've learned about grouping, aggregation and joins, let's revisit the last problem of Lab 1 and try to arrive at the same result using pure SQL. I hope after writing this query entirely in SQL, you'll appreciate the convenience of extracting this kind of information, compared to how you've done it in Pandas!\n",
    "\n",
    "So without further ado, let's write a query that answers this question: what are the 10 most (natively) spoken languages in the world?\n",
    "\n",
    "- Each row should show the language and the respective speaker population\n",
    "- Sort your results by the second column in descending order\n",
    "- Format the population numbers such that groups of thousands are separated with commas (you've already learned how to do this in previous exercises of this lab)\n",
    "- Use appropriate column aliases that you like\n",
    "\n",
    "Verify that you get exactly the same result as that you've arrived at in Lab 1 using Pandas!"
   ]
  },
  {
   "cell_type": "raw",
   "metadata": {},
   "source": [
    "# BEGIN QUESTION\n",
    "name: q2_5"
   ]
  },
  {
   "cell_type": "raw",
   "metadata": {},
   "source": [
    "# BEGIN SOLUTION"
   ]
  },
  {
   "cell_type": "code",
   "execution_count": 15,
   "metadata": {},
   "outputs": [
    {
     "data": {
      "text/html": [
       "<div>\n",
       "<style scoped>\n",
       "    .dataframe tbody tr th:only-of-type {\n",
       "        vertical-align: middle;\n",
       "    }\n",
       "\n",
       "    .dataframe tbody tr th {\n",
       "        vertical-align: top;\n",
       "    }\n",
       "\n",
       "    .dataframe thead th {\n",
       "        text-align: right;\n",
       "    }\n",
       "</style>\n",
       "<table border=\"1\" class=\"dataframe\">\n",
       "  <thead>\n",
       "    <tr style=\"text-align: right;\">\n",
       "      <th></th>\n",
       "      <th>language</th>\n",
       "      <th>speaker_population</th>\n",
       "    </tr>\n",
       "  </thead>\n",
       "  <tbody>\n",
       "    <tr>\n",
       "      <th>0</th>\n",
       "      <td>Chinese</td>\n",
       "      <td>1,191,843,539</td>\n",
       "    </tr>\n",
       "    <tr>\n",
       "      <th>1</th>\n",
       "      <td>Hindi</td>\n",
       "      <td>405,633,085</td>\n",
       "    </tr>\n",
       "    <tr>\n",
       "      <th>2</th>\n",
       "      <td>Spanish</td>\n",
       "      <td>355,029,462</td>\n",
       "    </tr>\n",
       "    <tr>\n",
       "      <th>3</th>\n",
       "      <td>English</td>\n",
       "      <td>347,077,861</td>\n",
       "    </tr>\n",
       "    <tr>\n",
       "      <th>4</th>\n",
       "      <td>Arabic</td>\n",
       "      <td>233,839,240</td>\n",
       "    </tr>\n",
       "    <tr>\n",
       "      <th>5</th>\n",
       "      <td>Bengali</td>\n",
       "      <td>209,304,713</td>\n",
       "    </tr>\n",
       "    <tr>\n",
       "      <th>6</th>\n",
       "      <td>Portuguese</td>\n",
       "      <td>177,595,269</td>\n",
       "    </tr>\n",
       "    <tr>\n",
       "      <th>7</th>\n",
       "      <td>Russian</td>\n",
       "      <td>160,807,560</td>\n",
       "    </tr>\n",
       "    <tr>\n",
       "      <th>8</th>\n",
       "      <td>Japanese</td>\n",
       "      <td>126,814,106</td>\n",
       "    </tr>\n",
       "    <tr>\n",
       "      <th>9</th>\n",
       "      <td>Punjabi</td>\n",
       "      <td>104,025,372</td>\n",
       "    </tr>\n",
       "  </tbody>\n",
       "</table>\n",
       "</div>"
      ],
      "text/plain": [
       "     language speaker_population\n",
       "0     Chinese      1,191,843,539\n",
       "1       Hindi        405,633,085\n",
       "2     Spanish        355,029,462\n",
       "3     English        347,077,861\n",
       "4      Arabic        233,839,240\n",
       "5     Bengali        209,304,713\n",
       "6  Portuguese        177,595,269\n",
       "7     Russian        160,807,560\n",
       "8    Japanese        126,814,106\n",
       "9     Punjabi        104,025,372"
      ]
     },
     "execution_count": 15,
     "metadata": {},
     "output_type": "execute_result"
    }
   ],
   "source": [
    "query = \"\"\"\n",
    "SELECT\n",
    "    cl.language,\n",
    "    to_char(SUM(cl.percentage / 100 * c.population), '9,999,999,999') speaker_population\n",
    "FROM\n",
    "    country c\n",
    "JOIN\n",
    "    countrylanguage cl\n",
    "ON\n",
    "    c.code = cl.countrycode\n",
    "GROUP BY\n",
    "    cl.language\n",
    "ORDER BY\n",
    "    SUM(cl.percentage * c.population) DESC\n",
    "LIMIT 10\n",
    ";\n",
    "\"\"\"\n",
    "\n",
    "pd.read_sql_query(query, con=conn)"
   ]
  },
  {
   "cell_type": "raw",
   "metadata": {},
   "source": [
    "# END SOLUTION"
   ]
  },
  {
   "cell_type": "raw",
   "metadata": {},
   "source": [
    "# END QUESTION"
   ]
  },
  {
   "cell_type": "markdown",
   "metadata": {
    "tags": []
   },
   "source": [
    "## Exercise 3: More joins with the IMDB database\n",
    "---"
   ]
  },
  {
   "cell_type": "markdown",
   "metadata": {},
   "source": [
    "In this exercise, you'll explore the `imdb_dsci513` database more in depth and extract richer information by pulling data from various tables and joining them together."
   ]
  },
  {
   "cell_type": "code",
   "execution_count": 16,
   "metadata": {},
   "outputs": [],
   "source": [
    "conn = psycopg2.connect(database='imdb_dsci513', **login)"
   ]
  },
  {
   "cell_type": "markdown",
   "metadata": {},
   "source": [
    "### 3.1\n",
    "\n",
    "rubric={accuracy:2}"
   ]
  },
  {
   "cell_type": "markdown",
   "metadata": {},
   "source": [
    "Write a query that returns the names of all actors/actresses of the movie **\"Catch Me If You Can\"**.\n",
    "\n",
    "**Hint:** The data you need for this exercise is spread across the `movies`, `acting_roles`, and `names` tables."
   ]
  },
  {
   "cell_type": "raw",
   "metadata": {},
   "source": [
    "# BEGIN QUESTION\n",
    "name: q3_1"
   ]
  },
  {
   "cell_type": "raw",
   "metadata": {},
   "source": [
    "# BEGIN SOLUTION"
   ]
  },
  {
   "cell_type": "code",
   "execution_count": 17,
   "metadata": {},
   "outputs": [
    {
     "data": {
      "text/html": [
       "<div>\n",
       "<style scoped>\n",
       "    .dataframe tbody tr th:only-of-type {\n",
       "        vertical-align: middle;\n",
       "    }\n",
       "\n",
       "    .dataframe tbody tr th {\n",
       "        vertical-align: top;\n",
       "    }\n",
       "\n",
       "    .dataframe thead th {\n",
       "        text-align: right;\n",
       "    }\n",
       "</style>\n",
       "<table border=\"1\" class=\"dataframe\">\n",
       "  <thead>\n",
       "    <tr style=\"text-align: right;\">\n",
       "      <th></th>\n",
       "      <th>title</th>\n",
       "      <th>name</th>\n",
       "    </tr>\n",
       "  </thead>\n",
       "  <tbody>\n",
       "    <tr>\n",
       "      <th>0</th>\n",
       "      <td>Catch Me If You Can</td>\n",
       "      <td>Grant Heslov</td>\n",
       "    </tr>\n",
       "    <tr>\n",
       "      <th>1</th>\n",
       "      <td>Catch Me If You Can</td>\n",
       "      <td>Matt Lattanzi</td>\n",
       "    </tr>\n",
       "    <tr>\n",
       "      <th>2</th>\n",
       "      <td>Catch Me If You Can</td>\n",
       "      <td>Loryn Locklin</td>\n",
       "    </tr>\n",
       "    <tr>\n",
       "      <th>3</th>\n",
       "      <td>Catch Me If You Can</td>\n",
       "      <td>Billy Morrissette</td>\n",
       "    </tr>\n",
       "    <tr>\n",
       "      <th>4</th>\n",
       "      <td>Catch Me If You Can</td>\n",
       "      <td>Leonardo DiCaprio</td>\n",
       "    </tr>\n",
       "    <tr>\n",
       "      <th>5</th>\n",
       "      <td>Catch Me If You Can</td>\n",
       "      <td>Tom Hanks</td>\n",
       "    </tr>\n",
       "    <tr>\n",
       "      <th>6</th>\n",
       "      <td>Catch Me If You Can</td>\n",
       "      <td>Martin Sheen</td>\n",
       "    </tr>\n",
       "    <tr>\n",
       "      <th>7</th>\n",
       "      <td>Catch Me If You Can</td>\n",
       "      <td>Christopher Walken</td>\n",
       "    </tr>\n",
       "  </tbody>\n",
       "</table>\n",
       "</div>"
      ],
      "text/plain": [
       "                 title                name\n",
       "0  Catch Me If You Can        Grant Heslov\n",
       "1  Catch Me If You Can       Matt Lattanzi\n",
       "2  Catch Me If You Can       Loryn Locklin\n",
       "3  Catch Me If You Can   Billy Morrissette\n",
       "4  Catch Me If You Can   Leonardo DiCaprio\n",
       "5  Catch Me If You Can           Tom Hanks\n",
       "6  Catch Me If You Can        Martin Sheen\n",
       "7  Catch Me If You Can  Christopher Walken"
      ]
     },
     "execution_count": 17,
     "metadata": {},
     "output_type": "execute_result"
    }
   ],
   "source": [
    "query = \"\"\"\n",
    "SELECT\n",
    "    m.title, n.name\n",
    "FROM\n",
    "    movies m\n",
    "JOIN\n",
    "    acting_roles a\n",
    "ON\n",
    "    m.id = a.movie_id\n",
    "JOIN\n",
    "    names n\n",
    "ON\n",
    "    a.name_id = n.id\n",
    "WHERE\n",
    "    m.title = 'Catch Me If You Can'\n",
    ";\n",
    "\"\"\"\n",
    "\n",
    "pd.read_sql_query(query, con=conn)"
   ]
  },
  {
   "cell_type": "raw",
   "metadata": {},
   "source": [
    "# END SOLUTION"
   ]
  },
  {
   "cell_type": "raw",
   "metadata": {},
   "source": [
    "# END QUESTION"
   ]
  },
  {
   "cell_type": "markdown",
   "metadata": {},
   "source": [
    "### 3.2\n",
    "\n",
    "rubric={accuracy:2}"
   ]
  },
  {
   "cell_type": "markdown",
   "metadata": {},
   "source": [
    "Write a query that lists each movie genre along with the average runtime of movies belonging to each genre. Sort your results in descending order by the latter column."
   ]
  },
  {
   "cell_type": "raw",
   "metadata": {},
   "source": [
    "# BEGIN QUESTION\n",
    "name: q3_2"
   ]
  },
  {
   "cell_type": "raw",
   "metadata": {},
   "source": [
    "# BEGIN SOLUTION"
   ]
  },
  {
   "cell_type": "code",
   "execution_count": 18,
   "metadata": {},
   "outputs": [
    {
     "data": {
      "text/html": [
       "<div>\n",
       "<style scoped>\n",
       "    .dataframe tbody tr th:only-of-type {\n",
       "        vertical-align: middle;\n",
       "    }\n",
       "\n",
       "    .dataframe tbody tr th {\n",
       "        vertical-align: top;\n",
       "    }\n",
       "\n",
       "    .dataframe thead th {\n",
       "        text-align: right;\n",
       "    }\n",
       "</style>\n",
       "<table border=\"1\" class=\"dataframe\">\n",
       "  <thead>\n",
       "    <tr style=\"text-align: right;\">\n",
       "      <th></th>\n",
       "      <th>genre</th>\n",
       "      <th>avg</th>\n",
       "    </tr>\n",
       "  </thead>\n",
       "  <tbody>\n",
       "    <tr>\n",
       "      <th>0</th>\n",
       "      <td>musical</td>\n",
       "      <td>123.522901</td>\n",
       "    </tr>\n",
       "    <tr>\n",
       "      <th>1</th>\n",
       "      <td>history</td>\n",
       "      <td>120.521104</td>\n",
       "    </tr>\n",
       "    <tr>\n",
       "      <th>2</th>\n",
       "      <td>war</td>\n",
       "      <td>115.552511</td>\n",
       "    </tr>\n",
       "    <tr>\n",
       "      <th>3</th>\n",
       "      <td>action</td>\n",
       "      <td>115.014854</td>\n",
       "    </tr>\n",
       "    <tr>\n",
       "      <th>4</th>\n",
       "      <td>biography</td>\n",
       "      <td>114.280488</td>\n",
       "    </tr>\n",
       "    <tr>\n",
       "      <th>5</th>\n",
       "      <td>drama</td>\n",
       "      <td>110.866650</td>\n",
       "    </tr>\n",
       "    <tr>\n",
       "      <th>6</th>\n",
       "      <td>romance</td>\n",
       "      <td>110.317226</td>\n",
       "    </tr>\n",
       "    <tr>\n",
       "      <th>7</th>\n",
       "      <td>thriller</td>\n",
       "      <td>109.705238</td>\n",
       "    </tr>\n",
       "    <tr>\n",
       "      <th>8</th>\n",
       "      <td>crime</td>\n",
       "      <td>108.376855</td>\n",
       "    </tr>\n",
       "    <tr>\n",
       "      <th>9</th>\n",
       "      <td>mystery</td>\n",
       "      <td>108.229765</td>\n",
       "    </tr>\n",
       "    <tr>\n",
       "      <th>10</th>\n",
       "      <td>sport</td>\n",
       "      <td>108.076923</td>\n",
       "    </tr>\n",
       "    <tr>\n",
       "      <th>11</th>\n",
       "      <td>adventure</td>\n",
       "      <td>107.166103</td>\n",
       "    </tr>\n",
       "    <tr>\n",
       "      <th>12</th>\n",
       "      <td>music</td>\n",
       "      <td>106.220287</td>\n",
       "    </tr>\n",
       "    <tr>\n",
       "      <th>13</th>\n",
       "      <td>fantasy</td>\n",
       "      <td>105.977798</td>\n",
       "    </tr>\n",
       "    <tr>\n",
       "      <th>14</th>\n",
       "      <td>sci-fi</td>\n",
       "      <td>104.159456</td>\n",
       "    </tr>\n",
       "    <tr>\n",
       "      <th>15</th>\n",
       "      <td>comedy</td>\n",
       "      <td>104.025137</td>\n",
       "    </tr>\n",
       "    <tr>\n",
       "      <th>16</th>\n",
       "      <td>family</td>\n",
       "      <td>103.662524</td>\n",
       "    </tr>\n",
       "    <tr>\n",
       "      <th>17</th>\n",
       "      <td>western</td>\n",
       "      <td>102.882483</td>\n",
       "    </tr>\n",
       "    <tr>\n",
       "      <th>18</th>\n",
       "      <td>horror</td>\n",
       "      <td>98.916552</td>\n",
       "    </tr>\n",
       "    <tr>\n",
       "      <th>19</th>\n",
       "      <td>documentary</td>\n",
       "      <td>95.669524</td>\n",
       "    </tr>\n",
       "    <tr>\n",
       "      <th>20</th>\n",
       "      <td>animation</td>\n",
       "      <td>90.061356</td>\n",
       "    </tr>\n",
       "    <tr>\n",
       "      <th>21</th>\n",
       "      <td>news</td>\n",
       "      <td>89.938776</td>\n",
       "    </tr>\n",
       "    <tr>\n",
       "      <th>22</th>\n",
       "      <td>film-noir</td>\n",
       "      <td>89.298851</td>\n",
       "    </tr>\n",
       "  </tbody>\n",
       "</table>\n",
       "</div>"
      ],
      "text/plain": [
       "          genre         avg\n",
       "0       musical  123.522901\n",
       "1       history  120.521104\n",
       "2           war  115.552511\n",
       "3        action  115.014854\n",
       "4     biography  114.280488\n",
       "5         drama  110.866650\n",
       "6       romance  110.317226\n",
       "7      thriller  109.705238\n",
       "8         crime  108.376855\n",
       "9       mystery  108.229765\n",
       "10        sport  108.076923\n",
       "11    adventure  107.166103\n",
       "12        music  106.220287\n",
       "13      fantasy  105.977798\n",
       "14       sci-fi  104.159456\n",
       "15       comedy  104.025137\n",
       "16       family  103.662524\n",
       "17      western  102.882483\n",
       "18       horror   98.916552\n",
       "19  documentary   95.669524\n",
       "20    animation   90.061356\n",
       "21         news   89.938776\n",
       "22    film-noir   89.298851"
      ]
     },
     "execution_count": 18,
     "metadata": {},
     "output_type": "execute_result"
    }
   ],
   "source": [
    "query = \"\"\"\n",
    "SELECT\n",
    "    g.genre,\n",
    "    AVG(m.runtime)\n",
    "FROM\n",
    "    movies m\n",
    "JOIN\n",
    "    movie_genres g\n",
    "ON\n",
    "    m.id = g.movie_id\n",
    "GROUP BY\n",
    "    g.genre\n",
    "ORDER BY\n",
    "    AVG(m.runtime) DESC\n",
    ";\n",
    "\"\"\"\n",
    "\n",
    "pd.read_sql_query(query, con=conn)"
   ]
  },
  {
   "cell_type": "raw",
   "metadata": {},
   "source": [
    "# END SOLUTION"
   ]
  },
  {
   "cell_type": "raw",
   "metadata": {},
   "source": [
    "# END QUESTION"
   ]
  },
  {
   "cell_type": "markdown",
   "metadata": {},
   "source": [
    "### 3.3\n",
    "\n",
    "rubric={accuracy:3}"
   ]
  },
  {
   "cell_type": "markdown",
   "metadata": {},
   "source": [
    "Write a query to find the number of \"drama\" and \"biography\" movies in which \"Marlon Brando\", \"Gary Oldman\", and \"Robin Williams\" played a role. Your query should list the actor's name, genre, and number of movies played by that actor in that genre."
   ]
  },
  {
   "cell_type": "raw",
   "metadata": {},
   "source": [
    "# BEGIN QUESTION\n",
    "name: q3_3"
   ]
  },
  {
   "cell_type": "raw",
   "metadata": {},
   "source": [
    "# BEGIN SOLUTION"
   ]
  },
  {
   "cell_type": "code",
   "execution_count": 19,
   "metadata": {},
   "outputs": [
    {
     "data": {
      "text/html": [
       "<div>\n",
       "<style scoped>\n",
       "    .dataframe tbody tr th:only-of-type {\n",
       "        vertical-align: middle;\n",
       "    }\n",
       "\n",
       "    .dataframe tbody tr th {\n",
       "        vertical-align: top;\n",
       "    }\n",
       "\n",
       "    .dataframe thead th {\n",
       "        text-align: right;\n",
       "    }\n",
       "</style>\n",
       "<table border=\"1\" class=\"dataframe\">\n",
       "  <thead>\n",
       "    <tr style=\"text-align: right;\">\n",
       "      <th></th>\n",
       "      <th>name</th>\n",
       "      <th>genre</th>\n",
       "      <th>count</th>\n",
       "    </tr>\n",
       "  </thead>\n",
       "  <tbody>\n",
       "    <tr>\n",
       "      <th>0</th>\n",
       "      <td>Gary Oldman</td>\n",
       "      <td>biography</td>\n",
       "      <td>5</td>\n",
       "    </tr>\n",
       "    <tr>\n",
       "      <th>1</th>\n",
       "      <td>Gary Oldman</td>\n",
       "      <td>drama</td>\n",
       "      <td>23</td>\n",
       "    </tr>\n",
       "    <tr>\n",
       "      <th>2</th>\n",
       "      <td>Marlon Brando</td>\n",
       "      <td>biography</td>\n",
       "      <td>4</td>\n",
       "    </tr>\n",
       "    <tr>\n",
       "      <th>3</th>\n",
       "      <td>Marlon Brando</td>\n",
       "      <td>drama</td>\n",
       "      <td>27</td>\n",
       "    </tr>\n",
       "    <tr>\n",
       "      <th>4</th>\n",
       "      <td>Robin Williams</td>\n",
       "      <td>biography</td>\n",
       "      <td>5</td>\n",
       "    </tr>\n",
       "    <tr>\n",
       "      <th>5</th>\n",
       "      <td>Robin Williams</td>\n",
       "      <td>drama</td>\n",
       "      <td>23</td>\n",
       "    </tr>\n",
       "  </tbody>\n",
       "</table>\n",
       "</div>"
      ],
      "text/plain": [
       "             name      genre  count\n",
       "0     Gary Oldman  biography      5\n",
       "1     Gary Oldman      drama     23\n",
       "2   Marlon Brando  biography      4\n",
       "3   Marlon Brando      drama     27\n",
       "4  Robin Williams  biography      5\n",
       "5  Robin Williams      drama     23"
      ]
     },
     "execution_count": 19,
     "metadata": {},
     "output_type": "execute_result"
    }
   ],
   "source": [
    "query = \"\"\"\n",
    "SELECT\n",
    "    n.name, g.genre, COUNT(DISTINCT a.movie_id)\n",
    "FROM\n",
    "    names n\n",
    "JOIN\n",
    "    acting_roles a\n",
    "ON\n",
    "    a.name_id = n.id\n",
    "JOIN\n",
    "    movie_genres g\n",
    "ON\n",
    "    g.movie_id = a.movie_id\n",
    "WHERE\n",
    "    n.name IN ('Marlon Brando', 'Gary Oldman', 'Robin Williams')\n",
    "    AND\n",
    "    g.genre IN ('drama', 'biography')\n",
    "GROUP BY\n",
    "    n.name, g.genre\n",
    ";\n",
    "\"\"\"\n",
    "\n",
    "pd.read_sql_query(query, con=conn)"
   ]
  },
  {
   "cell_type": "raw",
   "metadata": {},
   "source": [
    "# END SOLUTION"
   ]
  },
  {
   "cell_type": "raw",
   "metadata": {},
   "source": [
    "# END QUESTION"
   ]
  },
  {
   "cell_type": "markdown",
   "metadata": {
    "tags": []
   },
   "source": [
    "## Exercise 4: Unter is the new Uber\n",
    "---\n",
    "\n",
    "In this exercise, we're going to create a database called `unter` and its tables from scratch, and then populate its tables with some fake data in the later exercises. The database `unter` is supposed to store data of employees, drivers, cars, etc. of a company which provides taxi services. Let's call our company _Unter_, because we want to be a rival to Uber!\n",
    "\n",
    "(Uber in German means \"over\" or \"above\", so I've chosen \"Unter\" meaning \"under\" or \"below\" to oppose and compete with them even in name. But it's kinda obvious where the company's fate is headed with this name choice 😄)\n",
    "\n",
    "\n",
    "**Please do this exercise on your local installation of Postgres, NOT on the remote server!**\n",
    "\n",
    "Because you might want to drop your database several times as you try out new things that you've learned and you probably want to start fresh each time, I thought it may not be convenient to do it every time using the pgAdmin GUI. So I've given you the following cell to be able to **drop your database `unter` forcefully** (regardless if there are connections to it or not), and re-create it immediately."
   ]
  },
  {
   "cell_type": "code",
   "execution_count": 20,
   "metadata": {},
   "outputs": [],
   "source": [
    "conn = psycopg2.connect(database='postgres', **login)\n",
    "\n",
    "autocommit = psycopg2.extensions.ISOLATION_LEVEL_AUTOCOMMIT\n",
    "conn.set_isolation_level(autocommit)\n",
    "conn.cursor().execute(\"DROP DATABASE IF EXISTS unter WITH (FORCE);\")\n",
    "conn.cursor().execute(\"CREATE DATABASE unter;\")\n",
    "conn.cursor().close()"
   ]
  },
  {
   "cell_type": "markdown",
   "metadata": {},
   "source": [
    "At this point, you can use pgAdmin to see that your new database `unter` is created. Don't forget to right-click your \"Databases\" group in the browser pane and click \"Refresh\". Alternatively, you can use the following cell to see if the database `unter` appears in the list of databases on your Postgres server:"
   ]
  },
  {
   "cell_type": "code",
   "execution_count": 21,
   "metadata": {},
   "outputs": [
    {
     "name": "stdout",
     "output_type": "stream",
     "text": [
      "['postgres', 'template1', 'template0', 'world_dsci513', 'imdb_dsci513', 'mds', 'unter']\n"
     ]
    }
   ],
   "source": [
    "conn = psycopg2.connect(database='postgres', **login)\n",
    "\n",
    "with conn, conn.cursor() as cur:\n",
    "    cur.execute(\"SELECT datname FROM pg_database;\")\n",
    "    print([i[0] for i in cur.fetchall()])"
   ]
  },
  {
   "cell_type": "markdown",
   "metadata": {
    "tags": []
   },
   "source": [
    "### 4.1\n",
    "\n",
    "rubric={accuracy:3}"
   ]
  },
  {
   "cell_type": "markdown",
   "metadata": {},
   "source": [
    "Now that you've created the database, it's time to create the tables we need. I've included `employee.csv` in the `data` folder of this assignment, which contains the data of employees of our company. Given this CSV file, your task is:\n",
    "\n",
    "- Create a new table and call it `employee`\n",
    "- Create an auto-incrementing column called `id` (Hint: Remember the `SERIAL` data type?). This is the primary-key column.\n",
    "- Create other columns in your table that correspond to the columns you see in `employee.csv`. Use the same column names as in the CSV file.\n",
    "- You also need to specify data types for your columns. To do this, inspect `employee.csv` and choose the most appropriate data types according to the values you see.\n",
    "- Except for `exit_date`, none of the columns can be `NULL`.\n",
    "- Values in column `sin` should be unique.\n",
    "- The number of digits stored in column `sin` should be exactly 9 (Hint: Use the `CHECK` keyword together with `LENGTH()`).\n",
    "\n",
    "> **Note:** Use your best judgment to choose the number of characters to allow in, for example, `VARCHAR(n)`. Just make sure that it's not unreasonably short or long. In any other case, it's arbitrary and up to you what length you use.\n",
    "\n",
    "Make sure to enforce the constraints in your table. I've provided starter Python code for using the `psycopg2` package to do this:"
   ]
  },
  {
   "cell_type": "raw",
   "metadata": {},
   "source": [
    "# BEGIN QUESTION\n",
    "name: q4_1"
   ]
  },
  {
   "cell_type": "raw",
   "metadata": {},
   "source": [
    "# BEGIN SOLUTION"
   ]
  },
  {
   "cell_type": "code",
   "execution_count": 22,
   "metadata": {},
   "outputs": [],
   "source": [
    "conn = psycopg2.connect(database='unter', **login)\n",
    "conn.autocommit = True\n",
    "\n",
    "with conn, conn.cursor() as cur:\n",
    "    cur.execute(\"\"\"\n",
    "    CREATE TABLE employee(\n",
    "        id SERIAL,\n",
    "        first_name VARCHAR(32) NOT NULL,\n",
    "        last_name VARCHAR(64) NOT NULL,\n",
    "        birth_date DATE NOT NULL,\n",
    "        phone VARCHAR(32) NOT NULL,\n",
    "        home_address VARCHAR(128) NOT NULL,\n",
    "        home_postal_code VARCHAR(10) NOT NULL,\n",
    "        home_city VARCHAR(32) NOT NULL,\n",
    "        hire_date DATE NOT NULL,\n",
    "        exit_date DATE,\n",
    "        sin INT NOT NULL UNIQUE,\n",
    "\n",
    "        CONSTRAINT employee_pk\n",
    "            PRIMARY KEY (id)\n",
    "    );\n",
    "    \"\"\")"
   ]
  },
  {
   "cell_type": "markdown",
   "metadata": {},
   "source": [
    "After creating your table, run `\\d employee` in `psql` to see if your **columns** and **constraints** are properly created."
   ]
  },
  {
   "cell_type": "raw",
   "metadata": {},
   "source": [
    "# END SOLUTION"
   ]
  },
  {
   "cell_type": "raw",
   "metadata": {},
   "source": [
    "# END QUESTION"
   ]
  },
  {
   "cell_type": "markdown",
   "metadata": {
    "tags": []
   },
   "source": [
    "### 4.2\n",
    "\n",
    "rubric={accuracy:2}"
   ]
  },
  {
   "cell_type": "markdown",
   "metadata": {},
   "source": [
    "Being able to create things feels powerful, so let's create more!\n",
    "\n",
    "Now let's create a table `driver` for the drivers who work at Unter. I've provided a data file called `driver.csv` in the `data` folder of this assignment. If you inspect this file, you'll see that the data about our drivers is pretty much similar to our employees data. The only difference is that in `driver.csv` we also store driver's license information, in addition to other columns in the `employee` table.\n",
    "\n",
    "- You can use the same commands that you've written to create the `employee` table, but make sure to add more columns to accommodate the data in `driver.csv`.\n",
    "- None of the new columns can be null.\n",
    "- Add a constraint to the `driver_license` column so that its values are unique."
   ]
  },
  {
   "cell_type": "raw",
   "metadata": {},
   "source": [
    "# BEGIN QUESTION\n",
    "name: q4_2"
   ]
  },
  {
   "cell_type": "raw",
   "metadata": {},
   "source": [
    "# BEGIN SOLUTION"
   ]
  },
  {
   "cell_type": "code",
   "execution_count": 23,
   "metadata": {},
   "outputs": [],
   "source": [
    "conn = psycopg2.connect(database='unter', **login)\n",
    "conn.autocommit = True\n",
    "\n",
    "with conn, conn.cursor() as cur:\n",
    "    cur.execute(\"\"\"\n",
    "    CREATE TABLE driver(\n",
    "        id SERIAL,\n",
    "        first_name VARCHAR(32) NOT NULL,\n",
    "        last_name VARCHAR(64) NOT NULL,\n",
    "        birth_date DATE NOT NULL,\n",
    "        phone VARCHAR(32) NOT NULL,\n",
    "        home_address VARCHAR(128) NOT NULL,\n",
    "        home_postal_code VARCHAR(10) NOT NULL,\n",
    "        home_city VARCHAR(32) NOT NULL,\n",
    "        hire_date DATE NOT NULL,\n",
    "        exit_date DATE,\n",
    "        sin INT NOT NULL UNIQUE,\n",
    "        \n",
    "        driver_licence CHAR(11) NOT NULL UNIQUE,\n",
    "        issue_date DATE NOT NULL,\n",
    "        expiry_date DATE NOT NULL,\n",
    "\n",
    "        CONSTRAINT driver_pk\n",
    "            PRIMARY KEY (id)\n",
    "    );\n",
    "    \"\"\")"
   ]
  },
  {
   "cell_type": "raw",
   "metadata": {},
   "source": [
    "# END SOLUTION"
   ]
  },
  {
   "cell_type": "raw",
   "metadata": {},
   "source": [
    "# END QUESTION"
   ]
  },
  {
   "cell_type": "markdown",
   "metadata": {
    "tags": []
   },
   "source": [
    "### 4.3 (OPTIONAL)\n",
    "\n",
    "rubric={accuracy:2}"
   ]
  },
  {
   "cell_type": "markdown",
   "metadata": {},
   "source": [
    "After creating the `driver` table, we decide to add the following constraints in order to avoid having incorrect values inserted into the table..\n",
    "\n",
    "- The date stored in `issue_date` can't be later than the date on which a row is inserted\n",
    "- The date stored in `expiry_date` column can't be earlier than the `issue_date`\n",
    "\n",
    "Use the `ALTER` command and the following cell to add the above constraints to the `driver` table."
   ]
  },
  {
   "cell_type": "raw",
   "metadata": {},
   "source": [
    "# BEGIN QUESTION\n",
    "name: q4_3"
   ]
  },
  {
   "cell_type": "raw",
   "metadata": {},
   "source": [
    "# BEGIN SOLUTION"
   ]
  },
  {
   "cell_type": "code",
   "execution_count": 24,
   "metadata": {},
   "outputs": [],
   "source": [
    "conn = psycopg2.connect(database='unter', **login)\n",
    "conn.autocommit = True\n",
    "\n",
    "with conn, conn.cursor() as cur:\n",
    "    cur.execute(\"\"\"\n",
    "        ALTER TABLE driver ADD\n",
    "            CONSTRAINT issue_check CHECK (issue_date <= CURRENT_DATE);\n",
    "            \n",
    "        ALTER TABLE driver ADD\n",
    "            CONSTRAINT expiry_check CHECK (expiry_date >= issue_date);\n",
    "    \"\"\")"
   ]
  },
  {
   "cell_type": "raw",
   "metadata": {},
   "source": [
    "# END SOLUTION"
   ]
  },
  {
   "cell_type": "raw",
   "metadata": {},
   "source": [
    "# END QUESTION"
   ]
  },
  {
   "cell_type": "markdown",
   "metadata": {
    "tags": []
   },
   "source": [
    "### 4.4\n",
    "\n",
    "rubric={accuracy:2}"
   ]
  },
  {
   "cell_type": "markdown",
   "metadata": {},
   "source": [
    "All right, almost there. We need to create two more tables, `car_model` and `cab`. `car_model` stores information about each type of car, whereas `cab` contains data about the particular cabs that the drivers of our company own. \n",
    "\n",
    "This time I've given you part of the `CREATE TABLE` statements for both tables, and you're in charge of adding constraints.\n",
    "\n",
    "**`car_model` table:**\n",
    "\n",
    "- Add the primary key constraint\n",
    "\n",
    "**`cab` table:**\n",
    "\n",
    "- Add the primary key constraint\n",
    "- Each cab is a particular type of car, the information of which can be found in the `car_model` table. In order to ensure that each cab in the `cab` table can only be of the car types in the `car_model` table, the `car_model_id` column in the `cab` table should reference the `id` column of the `car_model` table. Add a constraint that enforces this.\n",
    "- The owner of each can in the `cab` table should be one of the drivers of our company. Add a constraint to the `cab` table such that `owner_id` references the `id` column of the `driver` table."
   ]
  },
  {
   "cell_type": "raw",
   "metadata": {},
   "source": [
    "# BEGIN QUESTION\n",
    "name: q4_2"
   ]
  },
  {
   "cell_type": "raw",
   "metadata": {},
   "source": [
    "# BEGIN SOLUTION"
   ]
  },
  {
   "cell_type": "code",
   "execution_count": 25,
   "metadata": {},
   "outputs": [],
   "source": [
    "conn = psycopg2.connect(database='unter', **login)\n",
    "conn.autocommit = True\n",
    "\n",
    "with conn, conn.cursor() as cur:\n",
    "    cur.execute(\"\"\"\n",
    "    CREATE TABLE car_model(\n",
    "        id SERIAL,\n",
    "        model_name VARCHAR(64) NOT NULL,\n",
    "        miles_per_gallon REAL,\n",
    "        year DATE,\n",
    "        origin VARCHAR(32),\n",
    "\n",
    "        CONSTRAINT cars_model_pk\n",
    "            PRIMARY KEY (id)\n",
    "    );\n",
    "\n",
    "    CREATE TABLE cab(\n",
    "        id SERIAL,\n",
    "        licence_plate VARCHAR(32) UNIQUE NOT NULL,\n",
    "        car_model_id INT,\n",
    "        owner_id INT,\n",
    "        active BOOLEAN NOT NULL,\n",
    "\n",
    "        CONSTRAINT cabs_pk\n",
    "            PRIMARY KEY (id),\n",
    "\n",
    "        CONSTRAINT cabs_fk_cars_model\n",
    "            FOREIGN KEY (car_model_id)\n",
    "                REFERENCES car_model(id),\n",
    "\n",
    "        CONSTRAINT cabs_fk_owner\n",
    "            FOREIGN KEY (owner_id)\n",
    "                REFERENCES driver(id)\n",
    "    );\n",
    "    \"\"\")"
   ]
  },
  {
   "cell_type": "raw",
   "metadata": {},
   "source": [
    "# END SOLUTION"
   ]
  },
  {
   "cell_type": "raw",
   "metadata": {},
   "source": [
    "# END QUESTION"
   ]
  },
  {
   "cell_type": "markdown",
   "metadata": {
    "tags": []
   },
   "source": [
    "## Exercise 5: Sanitize your SQL too, not just your hands\n",
    "---"
   ]
  },
  {
   "cell_type": "markdown",
   "metadata": {
    "tags": []
   },
   "source": [
    "Some evil people have gotten really unhappy with the progress we've made with our amazing taxi company \"Unter\", so they hire a hacker to attack our company's database. Suppose that we have a website where our employees can log in and access their information. In order to give access, we have a table called `user` that stores employees/clients username and passwords. So when a user tries to log in, we do the authentication and retrieve that user's information using the following query\n",
    "\n",
    "```python\n",
    "with conn, conn.cursor() as cur:\n",
    "    cur.execute(f\"SELECT * FROM users WHERE username = '{emp_user}' AND password = '{emp_passwd}';\")\n",
    "```\n",
    "\n",
    "Embedding strings directly in a SQL query using\n",
    "\n",
    "- Python's f-strings (e.g. `f\"I have {variable} apples\"`) or\n",
    "- Python's string concatenation (e.g. `\"I have \"+ variable + \" apples\"`)\n",
    "\n",
    "is **EXTREMELY DANGEROUS, and must always be avoided!**. It makes your application/service vulnerable to a particular security breach called [**SQL injection attacks**](https://en.wikipedia.org/wiki/SQL_injection).\n",
    "\n",
    "See what `psycopg2` documentation says about this:\n",
    "<img src=\"img/warning.png\" width=\"800\">\n",
    "\n",
    "But why? I'll show you!\n",
    "\n",
    "With the above embedding of variables directly into the string that we send to the database server, a hacker who is well-seasoned in SQL can carefully craft a username or password string like this:\n",
    "\n",
    "```python\n",
    "emp_user = \"' OR 1 = 1; SELECT * FROM user; --\"\n",
    "```\n",
    "\n",
    "Now, what your database receives as a query is this:\n",
    "\n",
    "```sql\n",
    "SELECT * FROM users WHERE username = '' OR 1 = 1; SELECT * FROM user; -- ' AND password = '{emp_passwd}';\")\n",
    "```\n",
    "\n",
    "Since `OR 1 = 1` is always true, the `WHERE` condition is short-circuited, and `SELECT * FROM user;` will get executed, while the rest of the query is neglected because of the `--`! Now the hacker has access to the username and passwords of all users stored in the `user` tables.\n",
    "\n",
    "**How to avoid SQL injection attack?**\n",
    "\n",
    "There are a few ways we can make sure that our application/service is not vulnerable to SQL injection attacks, one of which is to use **parameterized statements**. In `psycopg2`, you can safely embed variables inside your SQL statements using `%s` as parameter placeholders, and the second argument of the `.execute()` method to pass the parameters securely to the query ([see here for details](https://www.psycopg.org/docs/usage.html#passing-parameters-to-sql-queries)). For example, we can safely write our original query as:\n",
    "\n",
    "```python\n",
    "with conn, conn.cursor() as cur:\n",
    "    cur.execute(\"SELECT * FROM users WHERE username = %s AND password = %s;\",\n",
    "               (emp_user, emp_passwd))\n",
    "```\n",
    "\n",
    "The above SQL statement is now a **sanitized** query, and can be safely executed. In this manner, the query and data are sent to the server separately. By the time data arrives, the database server already knows what the query exactly is. This means that the query cannot be changed no matter what the passed data is.\n",
    "\n",
    "Furthermore, the parameters are checked before being used in the SQL statement by using `%` placeholders. For example, a single quote `'` in a parameter never gets a chance to close another single quote in the query, because it will be replaced with `''` and will therefore be escaped!"
   ]
  },
  {
   "cell_type": "markdown",
   "metadata": {},
   "source": [
    "### 5.1\n",
    "\n",
    "rubric={accuracy:2}"
   ]
  },
  {
   "cell_type": "markdown",
   "metadata": {},
   "source": [
    "Suppose that you're in charge of assessing the security of the `unter` database, and you want to test to see if you can actually break the database on purpose by injecting a SQL statement. I've defined a sample row for you in the cell below, and also a VERY DANGEROUS and naively formed SQL statement ☠️ (you should never write a SQL query in Python like this!).\n",
    "\n",
    "Your task is to try and create a value for one of the columns such that when the SQL statement is formed, it deletes the `driver` table!\n",
    "\n",
    "**Hint:** It's easier to use the last column for your SQL injection.\n",
    "\n",
    "**Hint:** Remember that other tables depend on the `driver` table, so unless you address this properly in your SQL statement, you won't be able to delete the table.\n",
    "\n",
    "**Hint:** Don't forget to use double quotes for your value so that the single quotes in the Python code do not interfere with your SQL strings."
   ]
  },
  {
   "cell_type": "raw",
   "metadata": {},
   "source": [
    "# BEGIN QUESTION\n",
    "name: q5_1"
   ]
  },
  {
   "cell_type": "raw",
   "metadata": {},
   "source": [
    "# BEGIN SOLUTION"
   ]
  },
  {
   "cell_type": "code",
   "execution_count": 26,
   "metadata": {},
   "outputs": [],
   "source": [
    "row = ['Bartel', 'Dall', '1997-08-15',\n",
    "       '102-380-7032', '86 Vermont Park', 'G5T 7X1',\n",
    "       'North Vancouver', '2018-06-05', '2020-02-01',\n",
    "       '200887794', '100-86-4796', '2019-05-05', \"2024-5-5'); DROP TABLE driver CASCADE;--'\"]\n",
    "\n",
    "(first_name, last_name, birth_date, phone, home_address,\n",
    " home_postal, home_city, hire_date, exit_date, sin,\n",
    " driver_licence, issue_date, expiry_date) = row\n",
    "\n",
    "\n",
    "with conn, conn.cursor() as cur:\n",
    "    cur.execute(f\"\"\"\n",
    "        INSERT INTO driver VALUES\n",
    "            (DEFAULT,\n",
    "            '{first_name}', '{last_name}', '{birth_date}', '{phone}', '{home_address}',\n",
    "            '{home_postal}', '{home_city}', '{hire_date}', '{exit_date}', '{sin}',\n",
    "            '{driver_licence}', '{issue_date}', '{expiry_date}');\n",
    "                \"\"\")"
   ]
  },
  {
   "cell_type": "markdown",
   "metadata": {},
   "source": [
    "Well, this is a security disaster 😵‍💫\n",
    "\n",
    "To make sure that the `driver` table is actually deleted as a result of your SQL injection, run the following cell to list tables in your `unter` database:"
   ]
  },
  {
   "cell_type": "code",
   "execution_count": 27,
   "metadata": {},
   "outputs": [
    {
     "name": "stdout",
     "output_type": "stream",
     "text": [
      "['employee', 'car_model', 'cab']\n"
     ]
    }
   ],
   "source": [
    "with conn, conn.cursor() as cur:\n",
    "    cur.execute(\"\"\"SELECT table_name FROM information_schema.tables WHERE table_schema='public'\"\"\")\n",
    "    print([i[0] for i in cur.fetchall()])"
   ]
  },
  {
   "cell_type": "markdown",
   "metadata": {},
   "source": [
    "Well, I hope you agree with me now how dangerous it is to expose your database like this. Always sanitize your queries!"
   ]
  },
  {
   "cell_type": "raw",
   "metadata": {},
   "source": [
    "# END SOLUTION"
   ]
  },
  {
   "cell_type": "raw",
   "metadata": {},
   "source": [
    "# END QUESTION"
   ]
  },
  {
   "cell_type": "markdown",
   "metadata": {},
   "source": [
    "### 5.2\n",
    "\n",
    "rubric={accuracy:5}"
   ]
  },
  {
   "cell_type": "markdown",
   "metadata": {},
   "source": [
    "Now that you've learned how to avoid the risk of embedding strings directly in your SQL statement, let's practice populating your `employee` table from within Python properly and safely in this exercise using the data in `employee.csv` file.\n",
    "\n",
    "In order to form safe SQL statements in Python, you need to use `psycopg2`s placeholders `%` for embedding parameters in your SQL statements, instead of using f-strings or string concatenation (see [here](https://www.psycopg.org/docs/usage.html#passing-parameters-to-sql-queries)) for details.\n",
    "\n",
    "I've provided some starter code for you that reads the `employee.csv` line by line and stores the column values in intermediate variables. You can use those variables to form your `INSERT` statements inside the loop."
   ]
  },
  {
   "cell_type": "raw",
   "metadata": {},
   "source": [
    "# BEGIN QUESTION\n",
    "name: q5_2"
   ]
  },
  {
   "cell_type": "raw",
   "metadata": {},
   "source": [
    "# BEGIN SOLUTION"
   ]
  },
  {
   "cell_type": "code",
   "execution_count": 28,
   "metadata": {},
   "outputs": [],
   "source": [
    "with conn, conn.cursor() as cur:\n",
    "    \n",
    "    with open('data/employee.csv', 'r') as f:\n",
    "        reader = csv.reader(f, delimiter=',')\n",
    "        next(reader)  # skip the header row\n",
    "\n",
    "        for row in reader:\n",
    "            \n",
    "            (first_name, last_name, birth_date, phone,\n",
    "             home_address, home_postal, home_city,\n",
    "             hire_date, exit_date, sin) = row\n",
    "            \n",
    "            if exit_date == '': exit_date = None\n",
    "            \n",
    "            cur.execute(\n",
    "                \"INSERT INTO employee VALUES (DEFAULT, %s, %s, %s, %s, %s, %s, %s, %s, %s, %s);\",\n",
    "                (first_name, last_name, birth_date, phone,\n",
    "                 home_address, home_postal, home_city,\n",
    "                 hire_date, exit_date, sin)\n",
    "            )\n",
    "            "
   ]
  },
  {
   "cell_type": "markdown",
   "metadata": {},
   "source": [
    "Let's see if the table `employee` is populated:"
   ]
  },
  {
   "cell_type": "code",
   "execution_count": 29,
   "metadata": {},
   "outputs": [
    {
     "data": {
      "text/html": [
       "<div>\n",
       "<style scoped>\n",
       "    .dataframe tbody tr th:only-of-type {\n",
       "        vertical-align: middle;\n",
       "    }\n",
       "\n",
       "    .dataframe tbody tr th {\n",
       "        vertical-align: top;\n",
       "    }\n",
       "\n",
       "    .dataframe thead th {\n",
       "        text-align: right;\n",
       "    }\n",
       "</style>\n",
       "<table border=\"1\" class=\"dataframe\">\n",
       "  <thead>\n",
       "    <tr style=\"text-align: right;\">\n",
       "      <th></th>\n",
       "      <th>id</th>\n",
       "      <th>first_name</th>\n",
       "      <th>last_name</th>\n",
       "      <th>birth_date</th>\n",
       "      <th>phone</th>\n",
       "      <th>home_address</th>\n",
       "      <th>home_postal_code</th>\n",
       "      <th>home_city</th>\n",
       "      <th>hire_date</th>\n",
       "      <th>exit_date</th>\n",
       "      <th>sin</th>\n",
       "    </tr>\n",
       "  </thead>\n",
       "  <tbody>\n",
       "    <tr>\n",
       "      <th>0</th>\n",
       "      <td>1</td>\n",
       "      <td>Sylvia</td>\n",
       "      <td>Bolstridge</td>\n",
       "      <td>1986-09-16</td>\n",
       "      <td>279-727-2485</td>\n",
       "      <td>3717 Redwing Parkway</td>\n",
       "      <td>T8L 2J6</td>\n",
       "      <td>Surrey</td>\n",
       "      <td>2018-04-23</td>\n",
       "      <td>2019-06-29</td>\n",
       "      <td>224705842</td>\n",
       "    </tr>\n",
       "    <tr>\n",
       "      <th>1</th>\n",
       "      <td>2</td>\n",
       "      <td>Marmaduke</td>\n",
       "      <td>Pethybridge</td>\n",
       "      <td>1989-08-27</td>\n",
       "      <td>490-248-0001</td>\n",
       "      <td>0314 Dayton Way</td>\n",
       "      <td>E9C 7X7</td>\n",
       "      <td>Richmond</td>\n",
       "      <td>2019-10-14</td>\n",
       "      <td>None</td>\n",
       "      <td>285858804</td>\n",
       "    </tr>\n",
       "    <tr>\n",
       "      <th>2</th>\n",
       "      <td>3</td>\n",
       "      <td>Goldy</td>\n",
       "      <td>Robeiro</td>\n",
       "      <td>1985-11-21</td>\n",
       "      <td>117-477-3289</td>\n",
       "      <td>3385 Tennessee Circle</td>\n",
       "      <td>B2G 7L3</td>\n",
       "      <td>Maple Ridge</td>\n",
       "      <td>2020-05-17</td>\n",
       "      <td>None</td>\n",
       "      <td>110904388</td>\n",
       "    </tr>\n",
       "    <tr>\n",
       "      <th>3</th>\n",
       "      <td>4</td>\n",
       "      <td>Emelina</td>\n",
       "      <td>Mulholland</td>\n",
       "      <td>1987-10-15</td>\n",
       "      <td>779-269-2569</td>\n",
       "      <td>1 Atwood Circle</td>\n",
       "      <td>E5R 3H6</td>\n",
       "      <td>Surrey</td>\n",
       "      <td>2020-06-26</td>\n",
       "      <td>2019-03-11</td>\n",
       "      <td>605946081</td>\n",
       "    </tr>\n",
       "    <tr>\n",
       "      <th>4</th>\n",
       "      <td>5</td>\n",
       "      <td>Natka</td>\n",
       "      <td>Sleford</td>\n",
       "      <td>1964-12-15</td>\n",
       "      <td>381-367-9439</td>\n",
       "      <td>30050 Clemons Pass</td>\n",
       "      <td>T8R 6C4</td>\n",
       "      <td>Langley</td>\n",
       "      <td>2017-07-18</td>\n",
       "      <td>None</td>\n",
       "      <td>970542883</td>\n",
       "    </tr>\n",
       "  </tbody>\n",
       "</table>\n",
       "</div>"
      ],
      "text/plain": [
       "   id first_name    last_name  birth_date         phone  \\\n",
       "0   1     Sylvia   Bolstridge  1986-09-16  279-727-2485   \n",
       "1   2  Marmaduke  Pethybridge  1989-08-27  490-248-0001   \n",
       "2   3      Goldy      Robeiro  1985-11-21  117-477-3289   \n",
       "3   4    Emelina   Mulholland  1987-10-15  779-269-2569   \n",
       "4   5      Natka      Sleford  1964-12-15  381-367-9439   \n",
       "\n",
       "            home_address home_postal_code    home_city   hire_date  \\\n",
       "0   3717 Redwing Parkway          T8L 2J6       Surrey  2018-04-23   \n",
       "1        0314 Dayton Way          E9C 7X7     Richmond  2019-10-14   \n",
       "2  3385 Tennessee Circle          B2G 7L3  Maple Ridge  2020-05-17   \n",
       "3        1 Atwood Circle          E5R 3H6       Surrey  2020-06-26   \n",
       "4     30050 Clemons Pass          T8R 6C4      Langley  2017-07-18   \n",
       "\n",
       "    exit_date        sin  \n",
       "0  2019-06-29  224705842  \n",
       "1        None  285858804  \n",
       "2        None  110904388  \n",
       "3  2019-03-11  605946081  \n",
       "4        None  970542883  "
      ]
     },
     "execution_count": 29,
     "metadata": {},
     "output_type": "execute_result"
    }
   ],
   "source": [
    "pd.read_sql_query(\"SELECT * FROM employee LIMIT 5;\", con=conn)"
   ]
  },
  {
   "cell_type": "raw",
   "metadata": {},
   "source": [
    "# END SOLUTION"
   ]
  },
  {
   "cell_type": "raw",
   "metadata": {},
   "source": [
    "# END QUESTION"
   ]
  },
  {
   "cell_type": "markdown",
   "metadata": {},
   "source": [
    "### 5.3 (OPTIONAL)\n",
    "\n",
    "rubric={accuracy:1}"
   ]
  },
  {
   "cell_type": "markdown",
   "metadata": {},
   "source": [
    "So far, you've learned how to create sanitized and safe SQL `INSERT` statements to read data from external files and load them into your database using `psycopg2` in Python. Let's now practice how to import data into the tables of your database using the `\\copy` meta-command in Postgres that you can run from `psql`.\n",
    "\n",
    "Your taks is to use the the `\\copy` meta-command to import the data stored in the `car_model.csv` file in the `data` folder of this assignment into your `car_model` table. Here is a [link](https://www.postgresql.org/docs/10/app-psql.html#APP-PSQL-META-COMMANDS-COPY) to Postgres documentation for the `\\copy` command. Feel free to look up the internet to see how you can form the appropriate `\\copy` command for this exercise.\n",
    "\n",
    "**Hint:** In `psql`, first navigate to the directory where your Lab 2 files are located before trying your command.\n",
    "\n",
    "**Hint:** If your `\\copy` command is successfully run, you'll see `COPY 406` in the output of `psql`."
   ]
  },
  {
   "cell_type": "raw",
   "metadata": {},
   "source": [
    "# BEGIN QUESTION\n",
    "name: q5_2"
   ]
  },
  {
   "cell_type": "raw",
   "metadata": {},
   "source": [
    "# BEGIN SOLUTION"
   ]
  },
  {
   "cell_type": "markdown",
   "metadata": {},
   "source": [
    "```sql\n",
    "\\copy car_model(model_name, miles_per_gallon, year, origin) FROM 'data/car_model.csv' WITH DELIMITER ',' CSV HEADER;\n",
    "```"
   ]
  },
  {
   "cell_type": "markdown",
   "metadata": {},
   "source": [
    "Let's check if the data is properly imported:"
   ]
  },
  {
   "cell_type": "code",
   "execution_count": 369,
   "metadata": {},
   "outputs": [
    {
     "data": {
      "text/html": [
       "<div>\n",
       "<style scoped>\n",
       "    .dataframe tbody tr th:only-of-type {\n",
       "        vertical-align: middle;\n",
       "    }\n",
       "\n",
       "    .dataframe tbody tr th {\n",
       "        vertical-align: top;\n",
       "    }\n",
       "\n",
       "    .dataframe thead th {\n",
       "        text-align: right;\n",
       "    }\n",
       "</style>\n",
       "<table border=\"1\" class=\"dataframe\">\n",
       "  <thead>\n",
       "    <tr style=\"text-align: right;\">\n",
       "      <th></th>\n",
       "      <th>id</th>\n",
       "      <th>model_name</th>\n",
       "      <th>miles_per_gallon</th>\n",
       "      <th>year</th>\n",
       "      <th>origin</th>\n",
       "    </tr>\n",
       "  </thead>\n",
       "  <tbody>\n",
       "    <tr>\n",
       "      <th>0</th>\n",
       "      <td>1</td>\n",
       "      <td>chevrolet chevelle malibu</td>\n",
       "      <td>18.0</td>\n",
       "      <td>1970-01-01</td>\n",
       "      <td>USA</td>\n",
       "    </tr>\n",
       "    <tr>\n",
       "      <th>1</th>\n",
       "      <td>2</td>\n",
       "      <td>buick skylark 320</td>\n",
       "      <td>15.0</td>\n",
       "      <td>1970-01-01</td>\n",
       "      <td>USA</td>\n",
       "    </tr>\n",
       "    <tr>\n",
       "      <th>2</th>\n",
       "      <td>3</td>\n",
       "      <td>plymouth satellite</td>\n",
       "      <td>18.0</td>\n",
       "      <td>1970-01-01</td>\n",
       "      <td>USA</td>\n",
       "    </tr>\n",
       "    <tr>\n",
       "      <th>3</th>\n",
       "      <td>4</td>\n",
       "      <td>amc rebel sst</td>\n",
       "      <td>16.0</td>\n",
       "      <td>1970-01-01</td>\n",
       "      <td>USA</td>\n",
       "    </tr>\n",
       "    <tr>\n",
       "      <th>4</th>\n",
       "      <td>5</td>\n",
       "      <td>ford torino</td>\n",
       "      <td>17.0</td>\n",
       "      <td>1970-01-01</td>\n",
       "      <td>USA</td>\n",
       "    </tr>\n",
       "    <tr>\n",
       "      <th>5</th>\n",
       "      <td>6</td>\n",
       "      <td>ford galaxie 500</td>\n",
       "      <td>15.0</td>\n",
       "      <td>1970-01-01</td>\n",
       "      <td>USA</td>\n",
       "    </tr>\n",
       "    <tr>\n",
       "      <th>6</th>\n",
       "      <td>7</td>\n",
       "      <td>chevrolet impala</td>\n",
       "      <td>14.0</td>\n",
       "      <td>1970-01-01</td>\n",
       "      <td>USA</td>\n",
       "    </tr>\n",
       "    <tr>\n",
       "      <th>7</th>\n",
       "      <td>8</td>\n",
       "      <td>plymouth fury iii</td>\n",
       "      <td>14.0</td>\n",
       "      <td>1970-01-01</td>\n",
       "      <td>USA</td>\n",
       "    </tr>\n",
       "    <tr>\n",
       "      <th>8</th>\n",
       "      <td>9</td>\n",
       "      <td>pontiac catalina</td>\n",
       "      <td>14.0</td>\n",
       "      <td>1970-01-01</td>\n",
       "      <td>USA</td>\n",
       "    </tr>\n",
       "    <tr>\n",
       "      <th>9</th>\n",
       "      <td>10</td>\n",
       "      <td>amc ambassador dpl</td>\n",
       "      <td>15.0</td>\n",
       "      <td>1970-01-01</td>\n",
       "      <td>USA</td>\n",
       "    </tr>\n",
       "  </tbody>\n",
       "</table>\n",
       "</div>"
      ],
      "text/plain": [
       "   id                 model_name  miles_per_gallon        year origin\n",
       "0   1  chevrolet chevelle malibu              18.0  1970-01-01    USA\n",
       "1   2          buick skylark 320              15.0  1970-01-01    USA\n",
       "2   3         plymouth satellite              18.0  1970-01-01    USA\n",
       "3   4              amc rebel sst              16.0  1970-01-01    USA\n",
       "4   5                ford torino              17.0  1970-01-01    USA\n",
       "5   6           ford galaxie 500              15.0  1970-01-01    USA\n",
       "6   7           chevrolet impala              14.0  1970-01-01    USA\n",
       "7   8          plymouth fury iii              14.0  1970-01-01    USA\n",
       "8   9           pontiac catalina              14.0  1970-01-01    USA\n",
       "9  10         amc ambassador dpl              15.0  1970-01-01    USA"
      ]
     },
     "execution_count": 369,
     "metadata": {},
     "output_type": "execute_result"
    }
   ],
   "source": [
    "pd.read_sql_query(\"SELECT * FROM car_model LIMIT 10;\", con=conn)"
   ]
  },
  {
   "cell_type": "raw",
   "metadata": {},
   "source": [
    "# END SOLUTION"
   ]
  },
  {
   "cell_type": "raw",
   "metadata": {},
   "source": [
    "# END QUESTION"
   ]
  },
  {
   "cell_type": "markdown",
   "metadata": {},
   "source": [
    "### 5.4 But it's no joke"
   ]
  },
  {
   "cell_type": "markdown",
   "metadata": {},
   "source": [
    "As a reward for completing Exercise 5, here is a cartoon ([source](https://xkcd.com/327/)) that only SQL people understand:\n",
    "\n",
    "<img src=\"img/cartoon.png\" width=\"800\">"
   ]
  }
 ],
 "metadata": {
  "interpreter": {
   "hash": "569d6b7e9215e11aba41c6454007e5c1b78bad7df09dab765d8cf00362c40f03"
  },
  "kernelspec": {
   "display_name": "Python [conda env:dsci513env]",
   "language": "python",
   "name": "conda-env-dsci513env-py"
  },
  "language_info": {
   "codemirror_mode": {
    "name": "ipython",
    "version": 3
   },
   "file_extension": ".py",
   "mimetype": "text/x-python",
   "name": "python",
   "nbconvert_exporter": "python",
   "pygments_lexer": "ipython3",
   "version": "3.9.7"
  },
  "toc": {
   "base_numbering": 1,
   "nav_menu": {},
   "number_sections": false,
   "sideBar": true,
   "skip_h1_title": true,
   "title_cell": "Lecture Outline",
   "title_sidebar": "Contents",
   "toc_cell": true,
   "toc_position": {},
   "toc_section_display": true,
   "toc_window_display": true
  },
  "toc-autonumbering": false,
  "toc-showcode": false,
  "toc-showmarkdowntxt": false,
  "toc-showtags": false
 },
 "nbformat": 4,
 "nbformat_minor": 4
}
