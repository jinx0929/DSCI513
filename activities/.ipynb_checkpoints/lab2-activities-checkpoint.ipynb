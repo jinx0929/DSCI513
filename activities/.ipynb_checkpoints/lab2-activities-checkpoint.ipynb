{
 "cells": [
  {
   "cell_type": "markdown",
   "id": "4b7eb99a-3482-4f1d-a326-1dffc6246475",
   "metadata": {},
   "source": [
    "<img src=\"img/dsci513_header2.png\" width=\"600\">"
   ]
  },
  {
   "cell_type": "markdown",
   "id": "25ccaef2-bc2f-4328-9f41-63380ac1b2e7",
   "metadata": {},
   "source": [
    "# Lab 2 Activities"
   ]
  },
  {
   "cell_type": "code",
   "execution_count": null,
   "id": "b1a3193a-44f7-40b4-9847-cb1bf3f853ba",
   "metadata": {},
   "outputs": [],
   "source": [
    "%load_ext sql\n",
    "%config SqlMagic.displaylimit = 50"
   ]
  },
  {
   "cell_type": "code",
   "execution_count": null,
   "id": "dc8d6315-438f-47f4-a943-de1f1230dc5f",
   "metadata": {},
   "outputs": [],
   "source": [
    "import json\n",
    "import urllib.parse\n",
    "\n",
    "with open('data/credentials.json') as f:\n",
    "    login = json.load(f)\n",
    "    \n",
    "username = login['user']\n",
    "password = urllib.parse.quote(login['password'])\n",
    "host = login['host']\n",
    "port = login['port']"
   ]
  },
  {
   "cell_type": "code",
   "execution_count": null,
   "id": "2fb55b09-2e0d-48fa-99f8-0f89490e4d42",
   "metadata": {},
   "outputs": [],
   "source": [
    "%sql postgresql://{username}:{password}@{host}/world_dsci513"
   ]
  },
  {
   "cell_type": "markdown",
   "id": "4be27e0d-e6f3-4205-969c-a633aca331a0",
   "metadata": {},
   "source": [
    "---\n",
    "\n",
    "**Example:** What is the average life expectancy in North America? Round the result to 1 decimal digit.\n",
    "\n",
    "---"
   ]
  },
  {
   "cell_type": "code",
   "execution_count": null,
   "id": "42d89967-af7e-4ac8-bbc2-3f76f3912acc",
   "metadata": {},
   "outputs": [],
   "source": [
    "%%sql\n",
    "\n",
    "..."
   ]
  },
  {
   "cell_type": "markdown",
   "id": "cead7be4-dec2-4759-acd7-3feabce43e55",
   "metadata": {
    "tags": []
   },
   "source": [
    "---\n",
    "\n",
    "**Example:** Write a query to return the number of all rows, as well as the number and percentage of null values in the column `indepyear` of the `country` table. Pick relevant column names for the resulting table.\n",
    "\n",
    "---"
   ]
  },
  {
   "cell_type": "code",
   "execution_count": null,
   "id": "c2f196c3-e62d-4037-b317-643e80ea1b3d",
   "metadata": {
    "tags": []
   },
   "outputs": [],
   "source": [
    "%%sql\n",
    "\n",
    "..."
   ]
  },
  {
   "cell_type": "markdown",
   "id": "ea20ad2d-756c-4e6e-a479-a8b8da9dd22a",
   "metadata": {
    "tags": []
   },
   "source": [
    "---\n",
    "\n",
    "**Example:** Write a query that returns country names and the average population of cities in those countries which have more than 40 listed cities. Sort the results in descending order by the average population of cities.\n",
    "\n",
    "---"
   ]
  },
  {
   "cell_type": "code",
   "execution_count": null,
   "id": "9b3cd7f3-189f-41bf-a89f-e96a5da505a4",
   "metadata": {
    "tags": []
   },
   "outputs": [],
   "source": [
    "%%sql\n",
    "\n",
    "..."
   ]
  },
  {
   "cell_type": "markdown",
   "id": "a8bf3b6e-4444-4a3b-8988-a4f22425d796",
   "metadata": {
    "tags": []
   },
   "source": [
    "---\n",
    "\n",
    "**Example:** Write a query that returns names of countries whose capital city is not their most populated city.\n",
    "\n",
    "---"
   ]
  },
  {
   "cell_type": "code",
   "execution_count": null,
   "id": "2ba5ee1f-e175-4a56-b670-d52d44474522",
   "metadata": {
    "tags": []
   },
   "outputs": [],
   "source": [
    "%%sql\n",
    "\n",
    "..."
   ]
  }
 ],
 "metadata": {
  "kernelspec": {
   "display_name": "Python [conda env:dsci513env]",
   "language": "python",
   "name": "conda-env-dsci513env-py"
  },
  "language_info": {
   "codemirror_mode": {
    "name": "ipython",
    "version": 3
   },
   "file_extension": ".py",
   "mimetype": "text/x-python",
   "name": "python",
   "nbconvert_exporter": "python",
   "pygments_lexer": "ipython3",
   "version": "3.9.7"
  }
 },
 "nbformat": 4,
 "nbformat_minor": 5
}
