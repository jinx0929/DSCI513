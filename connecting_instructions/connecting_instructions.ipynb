{
 "cells": [
  {
   "cell_type": "markdown",
   "id": "dc986a63-2af0-4232-b382-308fd54d91f1",
   "metadata": {
    "tags": []
   },
   "source": [
    "<img src=\"img/dsci513_header2.png\" width=\"600\">"
   ]
  },
  {
   "cell_type": "markdown",
   "id": "981a2b0b-f032-443a-98a9-209326101175",
   "metadata": {
    "tags": []
   },
   "source": [
    "# Instructions for connecting to remote and local databases"
   ]
  },
  {
   "cell_type": "markdown",
   "id": "79ea59b8-acf2-4d46-8f82-edb418b20c21",
   "metadata": {
    "tags": []
   },
   "source": [
    "### Connecting to the database\n",
    "\n",
    "As discussed in lecture 1, Postgres works based on the client-server model. This means that regardless of whether you want to use a database on your own computer or on a remote computer, you need to connect to it as a client, and the server will provide the required services. For DSCI 513, we have set up a Postgres host on the network that belongs to the Department of Computer Science at UBC. Whenever I ask you to connect to the remote server, this is where you can find the databases for our course. The server stores course databases (whose names are followed by `_dsci513`) as well as personal databases for each one of us (instructor + TAs + students) named using our CWLs. We will regularly use the course databases in the lectures and the labs, but not the personal databases.\n",
    "\n",
    "For regular databases exposed to the world-wide web, you only need a **host address**, **port**, **username** and **password** to connect to the database. However, since the CS servers at UBC are on an internal network for security reasons, the connection procedure involves one other step. We need to forward the server's port to our local computer through a secure tunnel, which is done using an SSH (secure shell) connection. It is worth mentioning that this is a situation that you may commonly encounter in many organizations to access private databases, so it is worth learning how to do it.\n",
    "\n",
    "#### Your CS account\n",
    "\n",
    "First of all, you need to activate your **student** account on CS servers through this [link](https://www.cs.ubc.ca/getacct/). Without doing this first, you won't be able to do any of the following steps.\n",
    "\n",
    "#### Your login info\n",
    "\n",
    "You are provided with two sets of login information:\n",
    "\n",
    "1. One set for logging into the UBC CS network, and\n",
    "2. Another set for logging into the Postgres server that resides on the UBC CS network.\n",
    "\n",
    "1) For logging into the **UBC CS network**, you should use:\n",
    "- Your CWL id as username\n",
    "- Your CWL password as password\n",
    "\n",
    "2) For logging into the **Postgres server** once you are on UBC CS network, you should use:\n",
    "- Your CWL id as username\n",
    "- Your password is set to `a<student_number>` by default. For example, if your student number is `01000111`, your password will be `a01000111`.\n",
    "\n",
    "#### Logging into UBC CS network\n",
    "\n",
    "##### Mac and Linux\n",
    "\n",
    "In order to do the port forwarding to access our Postgres server on the UBC CS network, run the following command in a terminal:\n",
    "\n",
    "> ```shell\n",
    "> ssh -l <CWL> -L localhost:5433:pgserver.students.cs.ubc.ca:5432 remote.students.cs.ubc.ca\n",
    "> ```\n",
    "\n",
    "This will try to open a connection on `remote.students.cs.ubc.ca`, and will prompt you for your CWL password. \n",
    "\n",
    "##### Windows\n",
    "\n",
    "You need to download and install [PuTTY](https://www.chiark.greenend.org.uk/~sgtatham/putty/latest.html) to be able to establish a SSH connection.\n",
    "\n",
    "Once downloaded and installed, launch PuTTY. Your screen will look something like this:\n",
    "\n",
    "![](./img/putty_main_page.png)\n",
    "\n",
    "Now create a connection by following these steps:\n",
    "\n",
    "- Type `remote.students.cs.ubc.ca` in the field labelled \"Hostname\" or IP Address\"\n",
    "- Type in a name you like to reference this connection in the \"Saved Sessions\" field. Click the \"Save\" button, and select the new session. Your screen should look like this:\n",
    "\n",
    "![](./img/putty_added_server.png)\n",
    "\n",
    "Now set the tunnelling configuration:\n",
    "\n",
    "- Select \"Session\" from the left pane,\n",
    "- Click \"Load\",\n",
    "- Expand `Connections -> SSH -> Tunnels`\n",
    "- In the \"Source Port\" field type `5433`\n",
    "- In \"Destination\" field type `pgserver.students.cs.ubc.ca:5432`\n",
    "- Click the \"Add\" button, which should make your screen look like this:\n",
    "\n",
    "![](./img/putty_port_forwarding.png)\n",
    "\n",
    "- Now go back to the \"Session\" section again and click the \"Save\" button.\n",
    "- Click \"Open\" to launch a session.\n",
    "\n",
    "#### How to connect to the database\n",
    "\n",
    "If the connection is successfully established, you'll be logged on your account on the CS servers. It also means that now you can access the remote database on your `localhost` with the port `5433` (because of port forwarding) using pgAdmin, `ipython-sql`, or any other client program.\n",
    "\n",
    "The labs and lectures in this course are shipped with a `credentials.json` file, which is simply supposed to store the host address, port, username and password. This is because **you should never ever store sensitive information such as usernames and passwords in a notebook or code file**. Instead of inputting our login info right in the notebook, we will read this information from `credentials.json` which we keep it only on our personal computer."
   ]
  },
  {
   "cell_type": "markdown",
   "id": "9de4aece-c245-4cb9-94cb-b708a7058d62",
   "metadata": {},
   "source": [
    "---\n",
    "**Important:**\n",
    "\n",
    "Make sure to add `credentials.json` to your `.gitignore_global` file located in your home directory, so you don't accidentally commit your sensitive information to Github.\n",
    "\n",
    "---"
   ]
  },
  {
   "cell_type": "markdown",
   "id": "490ed0da-d950-4bb8-8099-6f7aab7b404f",
   "metadata": {},
   "source": [
    "After establishing a secure connection to the CS network, make sure that your `credentials.json` file looks like this:\n",
    "\n",
    "```json\n",
    "{\n",
    "  \"host\": \"localhost\",\n",
    "  \"port\": 5433,\n",
    "  \"user\": \"<CWL>\",\n",
    "  \"password\": \"<your_password>\"\n",
    "}\n",
    "```"
   ]
  },
  {
   "cell_type": "markdown",
   "id": "619b775c-b087-499e-bc9f-c0f1014f557d",
   "metadata": {},
   "source": [
    "### Using course databases locally\n",
    "\n",
    "It's not that you'll always only use remote databases, sometimes you have local databases on the local Postgres server which is installed on your own computer. For this course, I have also provided [**dump files**](https://www.postgresql.org/docs/current/backup-dump.html) so that if for any reason you can't connect to the remote course database, you can recreate the databases on your own computer. In that case, you just need to go through the following steps.\n",
    "\n",
    "Suppose that you want to recreate the `world_dsci513` database on your own computer:\n",
    "\n",
    "- Open pgAdmin. In the left-hand side browser, you'll see a server called `localhost`. Double click on that to open it.\n",
    "- Now you should see a list of local databases, which at this point should only be `postgres`. Right-click on the `Databases`, then choose `Create => Database...`.\n",
    "- In the opened window, you'll see options for database creation. In the `Database` field, type `world_dsci513` as its name. It is not required to use this particular name, but to be consistent with the names used on the remote server, this is the better thing to do.\n",
    "- Click `Save`. The database is now created.\n",
    "\n",
    "Now you should restore the `world_dsci513` database using the dump file:\n",
    "- Download the dump file named `databases/world_dsci513.dump` from the course repo [here](https://github.ubc.ca/mds-2021-22/DSCI_513_database-data-retr_students/tree/master/databases).\n",
    "- In pgAdmin, right-click on your newly created `world_dsci513` database, and choose `Restore...`.\n",
    "- In the window that opens, click on the three dots `...` in front of the `Filename` field. Choose `world_dsci513.dump` that you downloaded earlier, and click `Restore`.\n",
    "- You should see a success message on the bottom right of the pgAdmin window\n",
    "- Viola! you now have the database on your own computer.\n",
    "\n",
    "When you want to connect to databases on your own computer, you can obviously skip the first step discussed above (i.e. creating SSH connection, etc). The only thing to remember is that you can connect to local databases on your computer using the default Postgres port `5432`. Furthermore, you need to use the username `postgres` and the password that you have setup for this user when you installed Postgres on your computer the first time."
   ]
  },
  {
   "cell_type": "markdown",
   "id": "59015536-7b18-4b10-befb-f3f7038f9fac",
   "metadata": {},
   "source": [
    "You can test your connection using the following cells:"
   ]
  },
  {
   "cell_type": "code",
   "execution_count": 3,
   "id": "134c8cbf-24ae-46cf-98c6-f69738254260",
   "metadata": {},
   "outputs": [],
   "source": [
    "%load_ext sql"
   ]
  },
  {
   "cell_type": "code",
   "execution_count": 7,
   "id": "0b54193a-559a-4b0e-8a3f-1c2a51a02c4b",
   "metadata": {},
   "outputs": [],
   "source": [
    "import json\n",
    "import urllib.parse\n",
    "\n",
    "with open('credentials.json') as f:\n",
    "    login = json.load(f)\n",
    "    \n",
    "username = login['user']\n",
    "password = urllib.parse.quote(login['password'])\n",
    "host = login['host']\n",
    "port = login['port']"
   ]
  },
  {
   "cell_type": "code",
   "execution_count": null,
   "id": "6304242f-1d4e-4dd4-81bb-9d90c284f269",
   "metadata": {},
   "outputs": [],
   "source": [
    "%sql postgresql://{username}:{password}@{host}:{port}/imdb_dsci513"
   ]
  },
  {
   "cell_type": "code",
   "execution_count": null,
   "id": "36edf188-cba2-4624-bd07-5e8dd1edbfd6",
   "metadata": {},
   "outputs": [],
   "source": [
    "%sql SELECT version();"
   ]
  }
 ],
 "metadata": {
  "kernelspec": {
   "display_name": "Python [conda env:dsci513env]",
   "language": "python",
   "name": "conda-env-dsci513env-py"
  },
  "language_info": {
   "codemirror_mode": {
    "name": "ipython",
    "version": 3
   },
   "file_extension": ".py",
   "mimetype": "text/x-python",
   "name": "python",
   "nbconvert_exporter": "python",
   "pygments_lexer": "ipython3",
   "version": "3.9.7"
  }
 },
 "nbformat": 4,
 "nbformat_minor": 5
}
